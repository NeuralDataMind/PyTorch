{
  "nbformat": 4,
  "nbformat_minor": 0,
  "metadata": {
    "colab": {
      "provenance": [],
      "gpuType": "T4",
      "authorship_tag": "ABX9TyMBMTtE+orhQ0XixtNGpN54",
      "include_colab_link": true
    },
    "kernelspec": {
      "name": "python3",
      "display_name": "Python 3"
    },
    "language_info": {
      "name": "python"
    },
    "accelerator": "GPU"
  },
  "cells": [
    {
      "cell_type": "markdown",
      "metadata": {
        "id": "view-in-github",
        "colab_type": "text"
      },
      "source": [
        "<a href=\"https://colab.research.google.com/github/NeuralDataMind/PyTorch/blob/main/Gradient.ipynb\" target=\"_parent\"><img src=\"https://colab.research.google.com/assets/colab-badge.svg\" alt=\"Open In Colab\"/></a>"
      ]
    },
    {
      "cell_type": "code",
      "execution_count": 6,
      "metadata": {
        "id": "yAr3dJVMupmv"
      },
      "outputs": [],
      "source": [
        "import torch"
      ]
    },
    {
      "cell_type": "markdown",
      "source": [
        "**Example 1**"
      ],
      "metadata": {
        "id": "CSJS69FdwgR4"
      }
    },
    {
      "cell_type": "code",
      "source": [
        "x = torch.tensor([3.0], dtype=torch.float32, requires_grad=True)"
      ],
      "metadata": {
        "id": "XBGftaaru4wq"
      },
      "execution_count": 10,
      "outputs": []
    },
    {
      "cell_type": "code",
      "source": [
        "y = x ** 2 + 4"
      ],
      "metadata": {
        "id": "-SdSQCZivKnt"
      },
      "execution_count": 11,
      "outputs": []
    },
    {
      "cell_type": "code",
      "source": [
        "y.backward()"
      ],
      "metadata": {
        "id": "aZ70JK27vMu7"
      },
      "execution_count": 12,
      "outputs": []
    },
    {
      "cell_type": "code",
      "source": [
        "print(\"Gradient: x\", x.grad)"
      ],
      "metadata": {
        "colab": {
          "base_uri": "https://localhost:8080/"
        },
        "id": "VPzgEQzbwLDL",
        "outputId": "e600fdf3-09e8-48f4-86b5-cd2c12c88e6d"
      },
      "execution_count": 13,
      "outputs": [
        {
          "output_type": "stream",
          "name": "stdout",
          "text": [
            "Gradient: x tensor([6.])\n"
          ]
        }
      ]
    },
    {
      "cell_type": "markdown",
      "source": [
        "**Example 2**"
      ],
      "metadata": {
        "id": "YlB1cHY_wlFd"
      }
    },
    {
      "cell_type": "code",
      "source": [
        "x = torch.tensor(3.0)\n",
        "y = torch.tensor(7.0)"
      ],
      "metadata": {
        "id": "PRFISYrlwbhP"
      },
      "execution_count": 14,
      "outputs": []
    },
    {
      "cell_type": "code",
      "source": [
        "x.requires_grad_(True)\n",
        "y.requires_grad_(True)"
      ],
      "metadata": {
        "colab": {
          "base_uri": "https://localhost:8080/"
        },
        "id": "cqPdI_Ykwugb",
        "outputId": "9ff3c9c2-2138-4c61-b798-ce8c723ca13d"
      },
      "execution_count": 16,
      "outputs": [
        {
          "output_type": "execute_result",
          "data": {
            "text/plain": [
              "tensor(7., requires_grad=True)"
            ]
          },
          "metadata": {},
          "execution_count": 16
        }
      ]
    },
    {
      "cell_type": "code",
      "source": [
        "z = x ** y"
      ],
      "metadata": {
        "id": "foiYm_5lwyIA"
      },
      "execution_count": 17,
      "outputs": []
    },
    {
      "cell_type": "code",
      "source": [
        "z.backward()"
      ],
      "metadata": {
        "id": "cACPANxTw9FL"
      },
      "execution_count": 19,
      "outputs": []
    },
    {
      "cell_type": "code",
      "source": [
        "print(\"Gradient: x\", x.grad)\n",
        "print(\"Gradient: y\", y.grad)"
      ],
      "metadata": {
        "colab": {
          "base_uri": "https://localhost:8080/"
        },
        "id": "0Xl-qRm0xC76",
        "outputId": "3ae498b9-71fc-4bc7-ac25-3e86743e0e0f"
      },
      "execution_count": 21,
      "outputs": [
        {
          "output_type": "stream",
          "name": "stdout",
          "text": [
            "Gradient: x tensor(5103.)\n",
            "Gradient: y tensor(2402.6650)\n"
          ]
        }
      ]
    },
    {
      "cell_type": "markdown",
      "source": [
        "**Example 3**"
      ],
      "metadata": {
        "id": "7ZGsh1nJzvsc"
      }
    },
    {
      "cell_type": "code",
      "source": [
        "# y = mx + b\n",
        "\n",
        "m = torch.tensor([2.0], dtype=torch.float32, requires_grad=True)\n",
        "x = torch.tensor([4.0], dtype=torch.float32, requires_grad=True)\n",
        "b = torch.tensor([7.0], dtype=torch.float32, requires_grad=True)"
      ],
      "metadata": {
        "id": "IwnwzcA_xFLy"
      },
      "execution_count": 38,
      "outputs": []
    },
    {
      "cell_type": "code",
      "source": [
        "x = x.detach()"
      ],
      "metadata": {
        "id": "7oQtBi8W0aUv"
      },
      "execution_count": 39,
      "outputs": []
    },
    {
      "cell_type": "code",
      "source": [
        "y = (m * x) + b"
      ],
      "metadata": {
        "id": "2TXIoeFD0KiU"
      },
      "execution_count": 40,
      "outputs": []
    },
    {
      "cell_type": "code",
      "source": [
        "y.backward()"
      ],
      "metadata": {
        "id": "hausyByl0PA3"
      },
      "execution_count": 41,
      "outputs": []
    },
    {
      "cell_type": "code",
      "source": [
        "print(\"Gradient: m\", m.grad)\n",
        "print(\"Gradient: x\", x.grad)\n",
        "print(\"Gradient: b\", b.grad)"
      ],
      "metadata": {
        "colab": {
          "base_uri": "https://localhost:8080/"
        },
        "id": "p-yHCkYZ0Qzc",
        "outputId": "00ba1c65-dfb5-422f-a359-4d905568b865"
      },
      "execution_count": 42,
      "outputs": [
        {
          "output_type": "stream",
          "name": "stdout",
          "text": [
            "Gradient: m tensor([4.])\n",
            "Gradient: x None\n",
            "Gradient: b tensor([1.])\n"
          ]
        }
      ]
    },
    {
      "cell_type": "code",
      "source": [],
      "metadata": {
        "id": "U9KaLRnH0ovW"
      },
      "execution_count": null,
      "outputs": []
    }
  ]
}