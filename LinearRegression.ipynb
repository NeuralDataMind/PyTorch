{
  "nbformat": 4,
  "nbformat_minor": 0,
  "metadata": {
    "colab": {
      "provenance": [],
      "authorship_tag": "ABX9TyOyBRREsV+KEPi36L20rCxI",
      "include_colab_link": true
    },
    "kernelspec": {
      "name": "python3",
      "display_name": "Python 3"
    },
    "language_info": {
      "name": "python"
    }
  },
  "cells": [
    {
      "cell_type": "markdown",
      "metadata": {
        "id": "view-in-github",
        "colab_type": "text"
      },
      "source": [
        "<a href=\"https://colab.research.google.com/github/NeuralDataMind/PyTorch/blob/main/LinearRegression.ipynb\" target=\"_parent\"><img src=\"https://colab.research.google.com/assets/colab-badge.svg\" alt=\"Open In Colab\"/></a>"
      ]
    },
    {
      "cell_type": "code",
      "execution_count": 113,
      "metadata": {
        "id": "j8p2SiyhcGYQ"
      },
      "outputs": [],
      "source": [
        "import torch\n",
        "import torch.nn as nn\n",
        "import torch.optim as optim\n",
        "import numpy as np\n",
        "import seaborn as sns\n",
        "import matplotlib.pyplot as plt"
      ]
    },
    {
      "cell_type": "code",
      "source": [
        "X = np.array([x for x in range(100)])\n",
        "X = X.reshape(-1, 1)\n",
        "y = 46 + 2 * X.flatten()"
      ],
      "metadata": {
        "id": "1BLwWDdbcx6B"
      },
      "execution_count": 114,
      "outputs": []
    },
    {
      "cell_type": "code",
      "source": [
        "X"
      ],
      "metadata": {
        "colab": {
          "base_uri": "https://localhost:8080/"
        },
        "id": "HXuGnkZOdLvK",
        "outputId": "45d94772-e544-4cf1-ee37-41cbf6a7b69c"
      },
      "execution_count": 115,
      "outputs": [
        {
          "output_type": "execute_result",
          "data": {
            "text/plain": [
              "array([[ 0],\n",
              "       [ 1],\n",
              "       [ 2],\n",
              "       [ 3],\n",
              "       [ 4],\n",
              "       [ 5],\n",
              "       [ 6],\n",
              "       [ 7],\n",
              "       [ 8],\n",
              "       [ 9],\n",
              "       [10],\n",
              "       [11],\n",
              "       [12],\n",
              "       [13],\n",
              "       [14],\n",
              "       [15],\n",
              "       [16],\n",
              "       [17],\n",
              "       [18],\n",
              "       [19],\n",
              "       [20],\n",
              "       [21],\n",
              "       [22],\n",
              "       [23],\n",
              "       [24],\n",
              "       [25],\n",
              "       [26],\n",
              "       [27],\n",
              "       [28],\n",
              "       [29],\n",
              "       [30],\n",
              "       [31],\n",
              "       [32],\n",
              "       [33],\n",
              "       [34],\n",
              "       [35],\n",
              "       [36],\n",
              "       [37],\n",
              "       [38],\n",
              "       [39],\n",
              "       [40],\n",
              "       [41],\n",
              "       [42],\n",
              "       [43],\n",
              "       [44],\n",
              "       [45],\n",
              "       [46],\n",
              "       [47],\n",
              "       [48],\n",
              "       [49],\n",
              "       [50],\n",
              "       [51],\n",
              "       [52],\n",
              "       [53],\n",
              "       [54],\n",
              "       [55],\n",
              "       [56],\n",
              "       [57],\n",
              "       [58],\n",
              "       [59],\n",
              "       [60],\n",
              "       [61],\n",
              "       [62],\n",
              "       [63],\n",
              "       [64],\n",
              "       [65],\n",
              "       [66],\n",
              "       [67],\n",
              "       [68],\n",
              "       [69],\n",
              "       [70],\n",
              "       [71],\n",
              "       [72],\n",
              "       [73],\n",
              "       [74],\n",
              "       [75],\n",
              "       [76],\n",
              "       [77],\n",
              "       [78],\n",
              "       [79],\n",
              "       [80],\n",
              "       [81],\n",
              "       [82],\n",
              "       [83],\n",
              "       [84],\n",
              "       [85],\n",
              "       [86],\n",
              "       [87],\n",
              "       [88],\n",
              "       [89],\n",
              "       [90],\n",
              "       [91],\n",
              "       [92],\n",
              "       [93],\n",
              "       [94],\n",
              "       [95],\n",
              "       [96],\n",
              "       [97],\n",
              "       [98],\n",
              "       [99]])"
            ]
          },
          "metadata": {},
          "execution_count": 115
        }
      ]
    },
    {
      "cell_type": "code",
      "source": [
        "y"
      ],
      "metadata": {
        "colab": {
          "base_uri": "https://localhost:8080/"
        },
        "id": "hVbFFHcedNPz",
        "outputId": "84384d2a-6361-485a-bea9-e8d0e17a772f"
      },
      "execution_count": 116,
      "outputs": [
        {
          "output_type": "execute_result",
          "data": {
            "text/plain": [
              "array([ 46,  48,  50,  52,  54,  56,  58,  60,  62,  64,  66,  68,  70,\n",
              "        72,  74,  76,  78,  80,  82,  84,  86,  88,  90,  92,  94,  96,\n",
              "        98, 100, 102, 104, 106, 108, 110, 112, 114, 116, 118, 120, 122,\n",
              "       124, 126, 128, 130, 132, 134, 136, 138, 140, 142, 144, 146, 148,\n",
              "       150, 152, 154, 156, 158, 160, 162, 164, 166, 168, 170, 172, 174,\n",
              "       176, 178, 180, 182, 184, 186, 188, 190, 192, 194, 196, 198, 200,\n",
              "       202, 204, 206, 208, 210, 212, 214, 216, 218, 220, 222, 224, 226,\n",
              "       228, 230, 232, 234, 236, 238, 240, 242, 244])"
            ]
          },
          "metadata": {},
          "execution_count": 116
        }
      ]
    },
    {
      "cell_type": "code",
      "source": [
        "sns.scatterplot(x=X.flatten(), y=y, color = 'blue')\n",
        "plt.title('Pre PyTorch')\n",
        "plt.xlabel('X')\n",
        "plt.ylabel('y')\n",
        "plt.legend()\n",
        "plt.show()"
      ],
      "metadata": {
        "colab": {
          "base_uri": "https://localhost:8080/",
          "height": 527
        },
        "id": "KfnN_Dg4dUu8",
        "outputId": "6a5dc84d-e687-4aa8-fa35-1aa13a16ce22"
      },
      "execution_count": 117,
      "outputs": [
        {
          "output_type": "stream",
          "name": "stderr",
          "text": [
            "<ipython-input-117-8177915febe3>:5: UserWarning: No artists with labels found to put in legend.  Note that artists whose label start with an underscore are ignored when legend() is called with no argument.\n",
            "  plt.legend()\n"
          ]
        },
        {
          "output_type": "display_data",
          "data": {
            "text/plain": [
              "<Figure size 640x480 with 1 Axes>"
            ],
            "image/png": "[encoded data removed]"
          },
          "metadata": {}
        }
      ]
    },
    {
      "cell_type": "code",
      "source": [
        "x_mean, x_std = X.mean(), X.std()\n",
        "X_normalized = (X - x_mean) / x_std\n",
        "X_tensor = torch.tensor(X_normalized, dtype = torch.float32)"
      ],
      "metadata": {
        "id": "KIalnVD7eYio"
      },
      "execution_count": 118,
      "outputs": []
    },
    {
      "cell_type": "code",
      "source": [
        "print(X_tensor.shape)"
      ],
      "metadata": {
        "colab": {
          "base_uri": "https://localhost:8080/"
        },
        "id": "5ySFWJqIfNm4",
        "outputId": "78ec2407-0c8c-474c-87dd-6dbbd4015666"
      },
      "execution_count": 119,
      "outputs": [
        {
          "output_type": "stream",
          "name": "stdout",
          "text": [
            "torch.Size([100, 1])\n"
          ]
        }
      ]
    },
    {
      "cell_type": "code",
      "source": [
        "y_mean, y_std = y.mean(), y.std()\n",
        "y_normalized = (y - y_mean) / y_std\n",
        "y_tensor = torch.tensor(y_normalized, dtype = torch.float32)"
      ],
      "metadata": {
        "id": "ZJSPwS7kfPnb"
      },
      "execution_count": 120,
      "outputs": []
    },
    {
      "cell_type": "code",
      "source": [
        "print(y_tensor.shape)"
      ],
      "metadata": {
        "colab": {
          "base_uri": "https://localhost:8080/"
        },
        "id": "0bt9hA9nfdwc",
        "outputId": "2de80083-1d35-4ff7-b13a-6034cab1f2e3"
      },
      "execution_count": 121,
      "outputs": [
        {
          "output_type": "stream",
          "name": "stdout",
          "text": [
            "torch.Size([100])\n"
          ]
        }
      ]
    },
    {
      "cell_type": "code",
      "source": [
        "class LinearRegressionModel(nn.Module):\n",
        "  def __init__(self, in_features, out_features):\n",
        "    super().__init__()\n",
        "    self.linear = nn.Linear(in_features, out_features)\n",
        "\n",
        "  def forward(self, x):\n",
        "    return self.linear(x).squeeze(1)\n"
      ],
      "metadata": {
        "id": "zm6aTywKfk5K"
      },
      "execution_count": 122,
      "outputs": []
    },
    {
      "cell_type": "code",
      "source": [
        "in_features = 1\n",
        "out_features = 1\n",
        "model = LinearRegressionModel(in_features, out_features)"
      ],
      "metadata": {
        "id": "pxmOZIwIgaWS"
      },
      "execution_count": 123,
      "outputs": []
    },
    {
      "cell_type": "code",
      "source": [
        "criterion = nn.MSELoss()\n",
        "optimizer = optim.SGD(model.parameters(), lr=0.1)"
      ],
      "metadata": {
        "id": "xkNIvI3RgkWg"
      },
      "execution_count": 124,
      "outputs": []
    },
    {
      "cell_type": "code",
      "source": [
        "num_epochs = 15"
      ],
      "metadata": {
        "id": "aoSCzcBmg8G8"
      },
      "execution_count": 125,
      "outputs": []
    },
    {
      "cell_type": "code",
      "source": [
        "for epoch in range(num_epochs):\n",
        "  #forward pass\n",
        "  outputs = model(X_tensor)\n",
        "\n",
        "  #loss cal\n",
        "  loss = criterion(outputs, y_tensor)\n",
        "\n",
        "  #backwardpass and optimization\n",
        "  optimizer.zero_grad()\n",
        "  loss.backward()\n",
        "  optimizer.step()\n",
        "\n",
        "  print(f'Epoch [{epoch + 1}/{num_epochs}], Loss: {loss.item():.2f}')"
      ],
      "metadata": {
        "colab": {
          "base_uri": "https://localhost:8080/"
        },
        "id": "iMQSL5J_hHyy",
        "outputId": "9487c7f9-a9e8-4396-b51f-0a39920d5357"
      },
      "execution_count": 126,
      "outputs": [
        {
          "output_type": "stream",
          "name": "stdout",
          "text": [
            "Epoch [1/15], Loss: 0.07\n",
            "Epoch [2/15], Loss: 0.04\n",
            "Epoch [3/15], Loss: 0.03\n",
            "Epoch [4/15], Loss: 0.02\n",
            "Epoch [5/15], Loss: 0.01\n",
            "Epoch [6/15], Loss: 0.01\n",
            "Epoch [7/15], Loss: 0.00\n",
            "Epoch [8/15], Loss: 0.00\n",
            "Epoch [9/15], Loss: 0.00\n",
            "Epoch [10/15], Loss: 0.00\n",
            "Epoch [11/15], Loss: 0.00\n",
            "Epoch [12/15], Loss: 0.00\n",
            "Epoch [13/15], Loss: 0.00\n",
            "Epoch [14/15], Loss: 0.00\n",
            "Epoch [15/15], Loss: 0.00\n"
          ]
        }
      ]
    },
    {
      "cell_type": "code",
      "source": [
        "new_x = 121\n",
        "\n",
        "new_x_normalized = (new_x - x_mean)/ x_std\n",
        "\n",
        "new_x_tensor = torch.tensor(new_x_normalized, dtype = torch.float32).view(1, -1)\n",
        "\n",
        "model.eval()\n",
        "with torch.no_grad():\n",
        "  prediction_normalized = model(new_x_tensor)\n",
        "\n",
        "  prediction_denormalized = prediction_normalized.item() * y_std + y_mean\n",
        "  print(f'Predictied Value for x = {new_x}: {prediction_denormalized}')"
      ],
      "metadata": {
        "colab": {
          "base_uri": "https://localhost:8080/"
        },
        "id": "7RzR0EWNiGQP",
        "outputId": "8d2b7736-e3e9-40df-be0a-83d828521e53"
      },
      "execution_count": 127,
      "outputs": [
        {
          "output_type": "stream",
          "name": "stdout",
          "text": [
            "Predictied Value for x = 121: 288.4596959442158\n"
          ]
        }
      ]
    },
    {
      "cell_type": "code",
      "source": [
        "sns.scatterplot(x=X.flatten(), y=y, color = 'blue')\n",
        "\n",
        "fit_line = model(X_tensor).detach().numpy() * y_std + y_mean\n",
        "sns.lineplot(x = X.flatten(), y = fit_line, color = 'red' )\n",
        "\n",
        "plt.title('PyTorch with Prediction')\n",
        "plt.xlabel('X')\n",
        "plt.ylabel('y')\n",
        "plt.legend()\n",
        "plt.show()"
      ],
      "metadata": {
        "colab": {
          "base_uri": "https://localhost:8080/",
          "height": 527
        },
        "id": "YbwGTUUSi8Bo",
        "outputId": "06b977ca-3246-4a21-ba15-259b7efd5737"
      },
      "execution_count": 131,
      "outputs": [
        {
          "output_type": "stream",
          "name": "stderr",
          "text": [
            "<ipython-input-131-a04b34f7d9e0>:9: UserWarning: No artists with labels found to put in legend.  Note that artists whose label start with an underscore are ignored when legend() is called with no argument.\n",
            "  plt.legend()\n"
          ]
        },
        {
          "output_type": "display_data",
          "data": {
            "text/plain": [
              "<Figure size 640x480 with 1 Axes>"
            ],
            "image/png": "[encoded data removed]"
          },
          "metadata": {}
        }
      ]
    }
  ]
}