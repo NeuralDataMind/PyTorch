{
  "nbformat": 4,
  "nbformat_minor": 0,
  "metadata": {
    "colab": {
      "provenance": [],
      "authorship_tag": "ABX9TyPsemXSCFOOvcJ2kI+74MGc",
      "include_colab_link": true
    },
    "kernelspec": {
      "name": "python3",
      "display_name": "Python 3"
    },
    "language_info": {
      "name": "python"
    }
  },
  "cells": [
    {
      "cell_type": "markdown",
      "metadata": {
        "id": "view-in-github",
        "colab_type": "text"
      },
      "source": [
        "<a href=\"https://colab.research.google.com/github/NeuralDataMind/PyTorch/blob/main/Datasets_%26_Dataloaders.ipynb\" target=\"_parent\"><img src=\"https://colab.research.google.com/assets/colab-badge.svg\" alt=\"Open In Colab\"/></a>"
      ]
    },
    {
      "cell_type": "code",
      "execution_count": 1,
      "metadata": {
        "id": "rSBu-Kg8sTEa"
      },
      "outputs": [],
      "source": [
        "import torch\n",
        "import torch.nn as nn\n",
        "import torch.optim as optim\n",
        "from torch.utils.data import Dataset, DataLoader\n",
        "\n",
        "from sklearn.datasets import load_digits\n",
        "from sklearn.model_selection import train_test_split\n",
        "from sklearn.preprocessing import StandardScaler\n",
        "from sklearn.metrics import accuracy_score"
      ]
    },
    {
      "cell_type": "code",
      "source": [
        "digits = load_digits()\n",
        "X, y = digits.data, digits.target"
      ],
      "metadata": {
        "id": "t9kamUDTtVD2"
      },
      "execution_count": 2,
      "outputs": []
    },
    {
      "cell_type": "code",
      "source": [
        "X_train, X_test, y_train, y_test = train_test_split(X, y, test_size = 0.2, random_state = 11)"
      ],
      "metadata": {
        "id": "e82QN8Ylt7xY"
      },
      "execution_count": 3,
      "outputs": []
    },
    {
      "cell_type": "code",
      "source": [
        "scaler = StandardScaler()\n",
        "X_train = scaler.fit_transform(X_train)\n",
        "X_test = scaler.transform(X_test)"
      ],
      "metadata": {
        "id": "ow3bEcSZuKIn"
      },
      "execution_count": 4,
      "outputs": []
    },
    {
      "cell_type": "code",
      "source": [
        "class CustomDataset(Dataset):\n",
        "  def __init__(self, data, target):\n",
        "    self.data = torch.tensor(data, dtype = torch.float32)\n",
        "    self.target = torch.tensor(target, dtype = torch.long)\n",
        "\n",
        "  def __len__(self):\n",
        "    return len(self.data)\n",
        "\n",
        "  def __getitem__(self, index):\n",
        "    sample = {'data': self.data[index], 'target': self.target[index]}\n",
        "    return sample"
      ],
      "metadata": {
        "id": "WGcKZnnLuZbG"
      },
      "execution_count": 7,
      "outputs": []
    },
    {
      "cell_type": "code",
      "source": [
        "train_dataset = CustomDataset(X_train, y_train)\n",
        "test_dataset = CustomDataset(X_test, y_test)"
      ],
      "metadata": {
        "id": "Z0Hg28qmvOiS"
      },
      "execution_count": 8,
      "outputs": []
    },
    {
      "cell_type": "code",
      "source": [
        "len(train_dataset), len(test_dataset)"
      ],
      "metadata": {
        "colab": {
          "base_uri": "https://localhost:8080/"
        },
        "id": "PsNnb91dvdPa",
        "outputId": "ef6e96ec-75b7-45a8-b7fe-7efb3086a0d4"
      },
      "execution_count": 10,
      "outputs": [
        {
          "output_type": "execute_result",
          "data": {
            "text/plain": [
              "(1437, 360)"
            ]
          },
          "metadata": {},
          "execution_count": 10
        }
      ]
    },
    {
      "cell_type": "code",
      "source": [
        "train_dataset[0]"
      ],
      "metadata": {
        "colab": {
          "base_uri": "https://localhost:8080/"
        },
        "id": "MyF1JHc6vnXp",
        "outputId": "73f55f79-a3c9-4258-bae5-bd096d9a1b94"
      },
      "execution_count": 13,
      "outputs": [
        {
          "output_type": "execute_result",
          "data": {
            "text/plain": [
              "{'data': tensor([ 0.0000,  0.7855,  1.4473,  0.9870,  0.9711,  1.6287, -0.4107, -0.1187,\n",
              "         -0.0558,  1.5645,  0.4803, -1.2699, -0.4852,  1.3371, -0.5054, -0.1243,\n",
              "         -0.0354, -0.7298, -1.5627, -1.2109,  0.1465,  1.0232, -0.5341, -0.1049,\n",
              "         -0.0373, -0.7800, -0.3372,  1.0441,  0.9914,  1.4639,  2.3861, -0.0264,\n",
              "          0.0000,  0.1808,  1.1503,  0.4545,  0.7962, -0.8123, -0.2567,  0.0000,\n",
              "         -0.0577, -0.5369, -0.9146,  0.7433, -0.0886, -1.4491, -0.8084, -0.0940,\n",
              "         -0.0334, -0.4056, -0.9975,  1.2375, -1.3842, -1.4744, -0.7676, -0.2048,\n",
              "         -0.0264, -0.2901,  1.4802, -0.7153, -2.4151, -1.1653, -0.4980, -0.1942]),\n",
              " 'target': tensor(7)}"
            ]
          },
          "metadata": {},
          "execution_count": 13
        }
      ]
    },
    {
      "cell_type": "code",
      "source": [
        "train_data_loader = DataLoader(dataset = train_dataset, batch_size = 32, shuffle = True, num_workers = 2)\n",
        "test_data_loader =  DataLoader(dataset = train_dataset, batch_size = 32, shuffle = False, num_workers = 2)"
      ],
      "metadata": {
        "id": "6AKd_qHjv8ro"
      },
      "execution_count": 14,
      "outputs": []
    },
    {
      "cell_type": "code",
      "source": [
        "class SimpleNN(nn.Module):\n",
        "  def __init__(self, input_size, hidden_size, output_size):\n",
        "    super(SimpleNN, self).__init__()\n",
        "    self.layer_1 = nn.Linear(input_size, hidden_size)\n",
        "    self.relu = nn.ReLU()\n",
        "    self.layer_2 = nn.Linear(hidden_size, output_size)\n",
        "\n",
        "  def forward(self, x):\n",
        "    x = self.layer_1(x)\n",
        "    x = self.relu(x)\n",
        "    x = self.layer_2(x)\n",
        "    return x"
      ],
      "metadata": {
        "id": "GH-LVYUcwmoi"
      },
      "execution_count": 22,
      "outputs": []
    },
    {
      "cell_type": "code",
      "source": [
        "input_size = X_train.shape[1]\n",
        "hidden_size = 64\n",
        "output_size = len(set(y_train))"
      ],
      "metadata": {
        "id": "656n9UFIwv3s"
      },
      "execution_count": 18,
      "outputs": []
    },
    {
      "cell_type": "code",
      "source": [
        "model = SimpleNN(input_size, hidden_size, output_size)\n",
        "criterion = nn.CrossEntropyLoss()\n",
        "optimizer = optim.Adam(model.parameters(), lr = 0.001)"
      ],
      "metadata": {
        "id": "7nrYoh0YxftU"
      },
      "execution_count": 23,
      "outputs": []
    },
    {
      "cell_type": "code",
      "source": [
        "num_epochs = 100\n",
        "\n",
        "for epoch in range(num_epochs):\n",
        "  model.train()\n",
        "  running_loss = 0.0\n",
        "\n",
        "  for batch in train_data_loader:\n",
        "    inputs = batch['data']\n",
        "    targets = batch['target']\n",
        "\n",
        "    optimizer.zero_grad()\n",
        "    outputs = model(inputs)\n",
        "\n",
        "    loss = criterion(outputs, targets)\n",
        "    loss.backward()\n",
        "    optimizer.step()\n",
        "\n",
        "    running_loss += loss.item()\n",
        "\n",
        "  print(f\"Epoch {epoch + 1} / {num_epochs}, Loss: {running_loss / len(train_data_loader)}\")"
      ],
      "metadata": {
        "colab": {
          "base_uri": "https://localhost:8080/"
        },
        "id": "6_JddtqCx5tW",
        "outputId": "5fb377d6-00c1-4b99-8d3b-e894358555ba"
      },
      "execution_count": 26,
      "outputs": [
        {
          "output_type": "stream",
          "name": "stdout",
          "text": [
            "Epoch 1 / 100, Loss: 0.07617658091088136\n",
            "Epoch 2 / 100, Loss: 0.06730937597652277\n",
            "Epoch 3 / 100, Loss: 0.05955544879866971\n",
            "Epoch 4 / 100, Loss: 0.053112912591960694\n",
            "Epoch 5 / 100, Loss: 0.04698667666978306\n",
            "Epoch 6 / 100, Loss: 0.04221758654134141\n",
            "Epoch 7 / 100, Loss: 0.03808704862991969\n",
            "Epoch 8 / 100, Loss: 0.03458450726336903\n",
            "Epoch 9 / 100, Loss: 0.03126906418345041\n",
            "Epoch 10 / 100, Loss: 0.028401612573199803\n",
            "Epoch 11 / 100, Loss: 0.026010103772083917\n",
            "Epoch 12 / 100, Loss: 0.02386175019459592\n",
            "Epoch 13 / 100, Loss: 0.021827108268108634\n",
            "Epoch 14 / 100, Loss: 0.02037390876147482\n",
            "Epoch 15 / 100, Loss: 0.018404939698262346\n",
            "Epoch 16 / 100, Loss: 0.016993618735836612\n",
            "Epoch 17 / 100, Loss: 0.015776541073703104\n",
            "Epoch 18 / 100, Loss: 0.014503854989177651\n",
            "Epoch 19 / 100, Loss: 0.013630189643137985\n",
            "Epoch 20 / 100, Loss: 0.012582287218214737\n",
            "Epoch 21 / 100, Loss: 0.011737938835803005\n",
            "Epoch 22 / 100, Loss: 0.010862363698995776\n",
            "Epoch 23 / 100, Loss: 0.010195854502833552\n",
            "Epoch 24 / 100, Loss: 0.00952727411252757\n",
            "Epoch 25 / 100, Loss: 0.008914059131509729\n",
            "Epoch 26 / 100, Loss: 0.008343118206701345\n",
            "Epoch 27 / 100, Loss: 0.00789926552420689\n",
            "Epoch 28 / 100, Loss: 0.0073922945988468\n",
            "Epoch 29 / 100, Loss: 0.006994990218016837\n",
            "Epoch 30 / 100, Loss: 0.006617683104963766\n",
            "Epoch 31 / 100, Loss: 0.0062180146497363845\n",
            "Epoch 32 / 100, Loss: 0.005888510891236365\n",
            "Epoch 33 / 100, Loss: 0.00556325551846789\n",
            "Epoch 34 / 100, Loss: 0.00522845727391541\n",
            "Epoch 35 / 100, Loss: 0.004954940274668237\n",
            "Epoch 36 / 100, Loss: 0.0046998770325444635\n",
            "Epoch 37 / 100, Loss: 0.004506590794254508\n",
            "Epoch 38 / 100, Loss: 0.004276409615866012\n",
            "Epoch 39 / 100, Loss: 0.004035134272029003\n",
            "Epoch 40 / 100, Loss: 0.0038596121723660165\n",
            "Epoch 41 / 100, Loss: 0.0036614073453367585\n",
            "Epoch 42 / 100, Loss: 0.0034913115255120726\n",
            "Epoch 43 / 100, Loss: 0.0033161004086852902\n",
            "Epoch 44 / 100, Loss: 0.0031664459112410743\n",
            "Epoch 45 / 100, Loss: 0.00304958354940431\n",
            "Epoch 46 / 100, Loss: 0.0028902164944964977\n",
            "Epoch 47 / 100, Loss: 0.0027690867395398933\n",
            "Epoch 48 / 100, Loss: 0.002647516643628478\n",
            "Epoch 49 / 100, Loss: 0.0025412260548263376\n",
            "Epoch 50 / 100, Loss: 0.002440298564033583\n",
            "Epoch 51 / 100, Loss: 0.0023502426771705763\n",
            "Epoch 52 / 100, Loss: 0.0022218853552153127\n",
            "Epoch 53 / 100, Loss: 0.0021390757122490968\n",
            "Epoch 54 / 100, Loss: 0.002047197456057701\n",
            "Epoch 55 / 100, Loss: 0.0019719862126900503\n",
            "Epoch 56 / 100, Loss: 0.0018928612407762557\n",
            "Epoch 57 / 100, Loss: 0.001823559301879464\n",
            "Epoch 58 / 100, Loss: 0.0017576758588095092\n",
            "Epoch 59 / 100, Loss: 0.0016755009632712851\n",
            "Epoch 60 / 100, Loss: 0.0016197938911823762\n",
            "Epoch 61 / 100, Loss: 0.0015520749147981405\n",
            "Epoch 62 / 100, Loss: 0.0015073886846140442\n",
            "Epoch 63 / 100, Loss: 0.001441240198780886\n",
            "Epoch 64 / 100, Loss: 0.0013940030366130587\n",
            "Epoch 65 / 100, Loss: 0.001337199088690492\n",
            "Epoch 66 / 100, Loss: 0.0012957270418862915\n",
            "Epoch 67 / 100, Loss: 0.0012519741721916944\n",
            "Epoch 68 / 100, Loss: 0.001201372194595428\n",
            "Epoch 69 / 100, Loss: 0.001156698637835992\n",
            "Epoch 70 / 100, Loss: 0.0011151579363892475\n",
            "Epoch 71 / 100, Loss: 0.0010815792012080136\n",
            "Epoch 72 / 100, Loss: 0.0010414311293667803\n",
            "Epoch 73 / 100, Loss: 0.0010032514756959346\n",
            "Epoch 74 / 100, Loss: 0.0009737181409339731\n",
            "Epoch 75 / 100, Loss: 0.000944378800664304\n",
            "Epoch 76 / 100, Loss: 0.0009105304204341438\n",
            "Epoch 77 / 100, Loss: 0.0008780277786879904\n",
            "Epoch 78 / 100, Loss: 0.0008468404887632156\n",
            "Epoch 79 / 100, Loss: 0.0008202239450636423\n",
            "Epoch 80 / 100, Loss: 0.0007963385339179594\n",
            "Epoch 81 / 100, Loss: 0.0007680510649354093\n",
            "Epoch 82 / 100, Loss: 0.0007428304712650262\n",
            "Epoch 83 / 100, Loss: 0.0007223444489581096\n",
            "Epoch 84 / 100, Loss: 0.0006965396295224006\n",
            "Epoch 85 / 100, Loss: 0.00067618629836943\n",
            "Epoch 86 / 100, Loss: 0.0006547237245184887\n",
            "Epoch 87 / 100, Loss: 0.0006318098183126292\n",
            "Epoch 88 / 100, Loss: 0.0006159126415796992\n",
            "Epoch 89 / 100, Loss: 0.0005938559290370904\n",
            "Epoch 90 / 100, Loss: 0.0005762234951059024\n",
            "Epoch 91 / 100, Loss: 0.0005608028534980905\n",
            "Epoch 92 / 100, Loss: 0.0005431942365248688\n",
            "Epoch 93 / 100, Loss: 0.0005248117663237887\n",
            "Epoch 94 / 100, Loss: 0.0005084161611092794\n",
            "Epoch 95 / 100, Loss: 0.0004927339908641038\n",
            "Epoch 96 / 100, Loss: 0.00047881918564801\n",
            "Epoch 97 / 100, Loss: 0.0004636908383367376\n",
            "Epoch 98 / 100, Loss: 0.00044880744244437667\n",
            "Epoch 99 / 100, Loss: 0.00043648495937102577\n",
            "Epoch 100 / 100, Loss: 0.0004249632174226766\n"
          ]
        }
      ]
    },
    {
      "cell_type": "code",
      "source": [
        "# evaluation\n",
        "\n",
        "model.eval()\n",
        "all_predictions = []\n",
        "all_targets = []\n",
        "\n",
        "with torch.no_grad():\n",
        "  for batch in test_data_loader:\n",
        "    inputs = batch['data']\n",
        "    targets = batch['target']\n",
        "\n",
        "    outputs = model(inputs)\n",
        "    predictions = torch.argmax(outputs, dim = 1)\n",
        "\n",
        "    all_predictions.extend(predictions.cpu().numpy())\n",
        "    all_targets.extend(targets.cpu().numpy())\n",
        "\n",
        "accuracy = accuracy_score(all_targets, all_predictions)\n",
        "print(f\"Accuracy Test: {accuracy * 100: .3f}%\")"
      ],
      "metadata": {
        "colab": {
          "base_uri": "https://localhost:8080/"
        },
        "id": "As6Mn5mhzHIQ",
        "outputId": "2a58381e-ba93-4eb1-d72b-4ae1fce7f95c"
      },
      "execution_count": 28,
      "outputs": [
        {
          "output_type": "stream",
          "name": "stdout",
          "text": [
            "Accuracy Test:  100.000%\n"
          ]
        }
      ]
    }
  ]
}