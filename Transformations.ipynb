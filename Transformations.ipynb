{
  "nbformat": 4,
  "nbformat_minor": 0,
  "metadata": {
    "colab": {
      "provenance": [],
      "authorship_tag": "ABX9TyPrAtxOpVoNAbbYKxMhLV/k",
      "include_colab_link": true
    },
    "kernelspec": {
      "name": "python3",
      "display_name": "Python 3"
    },
    "language_info": {
      "name": "python"
    }
  },
  "cells": [
    {
      "cell_type": "markdown",
      "metadata": {
        "id": "view-in-github",
        "colab_type": "text"
      },
      "source": [
        "<a href=\"https://colab.research.google.com/github/NeuralDataMind/PyTorch/blob/main/Transformations.ipynb\" target=\"_parent\"><img src=\"https://colab.research.google.com/assets/colab-badge.svg\" alt=\"Open In Colab\"/></a>"
      ]
    },
    {
      "cell_type": "code",
      "execution_count": 37,
      "metadata": {
        "id": "zJ1WduZ61XAX"
      },
      "outputs": [],
      "source": [
        "import numpy as np\n",
        "\n",
        "import torch\n",
        "import torch.nn as nn\n",
        "import torch.optim as optim\n",
        "from torch.utils.data import Dataset, DataLoader\n",
        "from torchvision import transforms"
      ]
    },
    {
      "cell_type": "code",
      "source": [
        "class TabularDataset(Dataset):\n",
        "  def __init__(self, data, transform = None):\n",
        "    self.data = data\n",
        "    self.transform = transform\n",
        "\n",
        "  def __len__(self):\n",
        "    return len(self.data)\n",
        "\n",
        "  def __getitem__(self, index):\n",
        "    sample = self.data[index]\n",
        "    if self.transform:\n",
        "      sample = self.transform(sample)\n",
        "    return sample"
      ],
      "metadata": {
        "id": "Qm0LQCdq1xiU"
      },
      "execution_count": 38,
      "outputs": []
    },
    {
      "cell_type": "code",
      "source": [
        "class ToTensor:\n",
        "  def __call__(self, sample):\n",
        "    features, label = sample[0], sample[1]\n",
        "    return {'features': torch.tensor(features, dtype = torch.float32),\n",
        "            'label': torch.tensor(label, dtype = torch.float32)}"
      ],
      "metadata": {
        "id": "aNRdjVdr2wqD"
      },
      "execution_count": 39,
      "outputs": []
    },
    {
      "cell_type": "code",
      "source": [
        "class Normalize:\n",
        "  def __call__(self, sample):\n",
        "    features, label = sample[0], sample[1]\n",
        "    normalized_feauters = (features - np.mean(features)) / np.std(features)\n",
        "    return (normalized_feauters, label)"
      ],
      "metadata": {
        "id": "z2phG0pj3Ipt"
      },
      "execution_count": 40,
      "outputs": []
    },
    {
      "cell_type": "code",
      "source": [
        "tabular_data = [(np.random.rand(2), np.random.rand()) for _ in range(100)]"
      ],
      "metadata": {
        "id": "QCBBUokV3hYP"
      },
      "execution_count": 41,
      "outputs": []
    },
    {
      "cell_type": "code",
      "source": [
        "transform = transforms.Compose([Normalize(), ToTensor()])"
      ],
      "metadata": {
        "id": "j12YiI6B3qVS"
      },
      "execution_count": 42,
      "outputs": []
    },
    {
      "cell_type": "code",
      "source": [
        "dataset = TabularDataset(data = tabular_data, transform = transform)"
      ],
      "metadata": {
        "id": "ebxYujzU30SI"
      },
      "execution_count": 43,
      "outputs": []
    },
    {
      "cell_type": "code",
      "source": [
        "dataloader = DataLoader(dataset, batch_size = 16, shuffle = True)"
      ],
      "metadata": {
        "id": "XjhEhTVe4Hy4"
      },
      "execution_count": 44,
      "outputs": []
    },
    {
      "cell_type": "code",
      "source": [
        "class SimpleModel(nn.Module):\n",
        "  def __init__(self, input_size):\n",
        "    super(SimpleModel, self).__init__()\n",
        "    self.fc = nn.Linear(input_size, 1)\n",
        "\n",
        "  def forward(self, x):\n",
        "    return self.fc(x)"
      ],
      "metadata": {
        "id": "4SFF22d94ogS"
      },
      "execution_count": 45,
      "outputs": []
    },
    {
      "cell_type": "code",
      "source": [
        "model = SimpleModel(input_size = 2)\n",
        "criterior = nn.MSELoss()\n",
        "optimizer = optim.SGD(model.parameters(), lr = 0.01)"
      ],
      "metadata": {
        "id": "TvyAljt-5A_w"
      },
      "execution_count": 46,
      "outputs": []
    },
    {
      "cell_type": "code",
      "source": [
        "num_epochs = 50\n",
        "for   epoch in range(num_epochs):\n",
        "  model.train()\n",
        "  total_loss = 0.0\n",
        "\n",
        "  for batch in dataloader:\n",
        "    features, labels = batch['features'], batch['label']\n",
        "\n",
        "    optimizer.zero_grad()\n",
        "    outputs = model(features)\n",
        "\n",
        "    loss = criterior(outputs, labels.view(-1, 1))\n",
        "    loss.backward()\n",
        "    optimizer.step()\n",
        "\n",
        "    total_loss += loss.item()\n",
        "\n",
        "  average_loss = total_loss / len(dataloader)\n",
        "  print(f\"Epoch [{epoch + 1} / {num_epochs}], Loss: {average_loss}\")"
      ],
      "metadata": {
        "colab": {
          "base_uri": "https://localhost:8080/"
        },
        "id": "MDAe0m7t5VkU",
        "outputId": "0689ddeb-b551-4c5e-df1e-a5f8dcdd61b6"
      },
      "execution_count": 47,
      "outputs": [
        {
          "output_type": "stream",
          "name": "stdout",
          "text": [
            "Epoch [1 / 50], Loss: 0.8350030183792114\n",
            "Epoch [2 / 50], Loss: 0.6799596633229937\n",
            "Epoch [3 / 50], Loss: 0.5398505415235247\n",
            "Epoch [4 / 50], Loss: 0.411620774439403\n",
            "Epoch [5 / 50], Loss: 0.3582664004393986\n",
            "Epoch [6 / 50], Loss: 0.3028465509414673\n",
            "Epoch [7 / 50], Loss: 0.23868403477328165\n",
            "Epoch [8 / 50], Loss: 0.19414107714380538\n",
            "Epoch [9 / 50], Loss: 0.17627188776220595\n",
            "Epoch [10 / 50], Loss: 0.1458121602024351\n",
            "Epoch [11 / 50], Loss: 0.12254545199019569\n",
            "Epoch [12 / 50], Loss: 0.11395400549684252\n",
            "Epoch [13 / 50], Loss: 0.1089726026569094\n",
            "Epoch [14 / 50], Loss: 0.1001017125589507\n",
            "Epoch [15 / 50], Loss: 0.08739418855735234\n",
            "Epoch [16 / 50], Loss: 0.09481981503111976\n",
            "Epoch [17 / 50], Loss: 0.08533501412187304\n",
            "Epoch [18 / 50], Loss: 0.08098826184868813\n",
            "Epoch [19 / 50], Loss: 0.08475495874881744\n",
            "Epoch [20 / 50], Loss: 0.08317003079823085\n",
            "Epoch [21 / 50], Loss: 0.0813336478812354\n",
            "Epoch [22 / 50], Loss: 0.07858238475663322\n",
            "Epoch [23 / 50], Loss: 0.08146904621805463\n",
            "Epoch [24 / 50], Loss: 0.07065875043294259\n",
            "Epoch [25 / 50], Loss: 0.07473997292774064\n",
            "Epoch [26 / 50], Loss: 0.07979047404868263\n",
            "Epoch [27 / 50], Loss: 0.07856972036617142\n",
            "Epoch [28 / 50], Loss: 0.07458545533674103\n",
            "Epoch [29 / 50], Loss: 0.0737608325268541\n",
            "Epoch [30 / 50], Loss: 0.07430321829659599\n",
            "Epoch [31 / 50], Loss: 0.07359732900347028\n",
            "Epoch [32 / 50], Loss: 0.07500858392034258\n",
            "Epoch [33 / 50], Loss: 0.07425938280565399\n",
            "Epoch [34 / 50], Loss: 0.08008330634662084\n",
            "Epoch [35 / 50], Loss: 0.07413947262934276\n",
            "Epoch [36 / 50], Loss: 0.08137959774051394\n",
            "Epoch [37 / 50], Loss: 0.07573241527591433\n",
            "Epoch [38 / 50], Loss: 0.08079596129911286\n",
            "Epoch [39 / 50], Loss: 0.07246487055506025\n",
            "Epoch [40 / 50], Loss: 0.08250597385423523\n",
            "Epoch [41 / 50], Loss: 0.07830743438431195\n",
            "Epoch [42 / 50], Loss: 0.07653252461126872\n",
            "Epoch [43 / 50], Loss: 0.07174136542848178\n",
            "Epoch [44 / 50], Loss: 0.07413293421268463\n",
            "Epoch [45 / 50], Loss: 0.07247090073568481\n",
            "Epoch [46 / 50], Loss: 0.07263900233166558\n",
            "Epoch [47 / 50], Loss: 0.07596647313662938\n",
            "Epoch [48 / 50], Loss: 0.07925043574401311\n",
            "Epoch [49 / 50], Loss: 0.08307204289095742\n",
            "Epoch [50 / 50], Loss: 0.0755701634500708\n"
          ]
        }
      ]
    },
    {
      "cell_type": "code",
      "source": [
        "model.eval()\n",
        "\n",
        "with torch.no_grad():\n",
        "  total_loss = 0.0\n",
        "\n",
        "  for batch in dataloader:\n",
        "    features, labels = batch['features'], batch['label']\n",
        "    outputs = model(features)\n",
        "    loss = criterior(outputs, labels.view(-1, 1))\n",
        "    total_loss += loss.item()\n",
        "\n",
        "  average_loss = total_loss / len(dataloader)\n",
        "  print(average_loss)"
      ],
      "metadata": {
        "colab": {
          "base_uri": "https://localhost:8080/"
        },
        "id": "y7kzReON6XiJ",
        "outputId": "c84b02c5-eba5-4693-fb94-597cc7fa1c99"
      },
      "execution_count": 49,
      "outputs": [
        {
          "output_type": "stream",
          "name": "stdout",
          "text": [
            "0.07657798592533384\n"
          ]
        }
      ]
    },
    {
      "cell_type": "code",
      "source": [],
      "metadata": {
        "id": "82UFL1Xk822H"
      },
      "execution_count": null,
      "outputs": []
    }
  ]
}