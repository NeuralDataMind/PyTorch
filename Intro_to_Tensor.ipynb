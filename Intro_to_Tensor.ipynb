{
  "nbformat": 4,
  "nbformat_minor": 0,
  "metadata": {
    "colab": {
      "provenance": [],
      "gpuType": "T4",
      "authorship_tag": "ABX9TyNU17vqNjTVjPmR11wpWarQ",
      "include_colab_link": true
    },
    "kernelspec": {
      "name": "python3",
      "display_name": "Python 3"
    },
    "language_info": {
      "name": "python"
    },
    "accelerator": "GPU"
  },
  "cells": [
    {
      "cell_type": "markdown",
      "metadata": {
        "id": "view-in-github",
        "colab_type": "text"
      },
      "source": [
        "<a href=\"https://colab.research.google.com/github/NeuralDataMind/PyTorch/blob/main/Intro_to_Tensor.ipynb\" target=\"_parent\"><img src=\"https://colab.research.google.com/assets/colab-badge.svg\" alt=\"Open In Colab\"/></a>"
      ]
    },
    {
      "cell_type": "code",
      "execution_count": 1,
      "metadata": {
        "id": "UkjvJyjlX3AE"
      },
      "outputs": [],
      "source": [
        "import torch\n",
        "import numpy as np"
      ]
    },
    {
      "cell_type": "code",
      "source": [
        "tensor_1 = torch.tensor([1, 2, 3])\n",
        "print(\"Our first PyTorch Tensor:\", tensor_1)"
      ],
      "metadata": {
        "colab": {
          "base_uri": "https://localhost:8080/"
        },
        "id": "ZgjKTFMucfMk",
        "outputId": "c3952597-d0ff-40ec-bd98-b3763f59adbd"
      },
      "execution_count": 2,
      "outputs": [
        {
          "output_type": "stream",
          "name": "stdout",
          "text": [
            "Our first PyTorch Tensor: tensor([1, 2, 3])\n"
          ]
        }
      ]
    },
    {
      "cell_type": "code",
      "source": [
        "array_1 = np.array([1, 2, 3])"
      ],
      "metadata": {
        "id": "uNzyTTbEYmj5"
      },
      "execution_count": 3,
      "outputs": []
    },
    {
      "cell_type": "code",
      "source": [
        "tensor_from_numpy = torch.tensor(array_1)\n",
        "print(\"PyTorch Twnsor from numpy arraay:\", tensor_from_numpy)"
      ],
      "metadata": {
        "colab": {
          "base_uri": "https://localhost:8080/"
        },
        "id": "eJnRXrm8c-ey",
        "outputId": "6658fd63-3a16-4da0-f043-d80c031528e4"
      },
      "execution_count": 5,
      "outputs": [
        {
          "output_type": "stream",
          "name": "stdout",
          "text": [
            "PyTorch Twnsor from numpy arraay: tensor([1, 2, 3])\n"
          ]
        }
      ]
    },
    {
      "cell_type": "code",
      "source": [
        "empty_tensor = torch.empty(3)\n",
        "print(\"Empty Tensor:\", empty_tensor)"
      ],
      "metadata": {
        "colab": {
          "base_uri": "https://localhost:8080/"
        },
        "id": "HlXwWBt2dDyc",
        "outputId": "b4443c12-9701-4c68-de5b-dffbfaec02ca"
      },
      "execution_count": 7,
      "outputs": [
        {
          "output_type": "stream",
          "name": "stdout",
          "text": [
            "Empty Tensor: tensor([-1.6904e+14,  4.3914e-41,  2.0435e-08])\n"
          ]
        }
      ]
    },
    {
      "cell_type": "code",
      "source": [
        "zero_tensor = torch.zeros(2, 3)\n",
        "print(\"Zero Tensor:\", zero_tensor)"
      ],
      "metadata": {
        "colab": {
          "base_uri": "https://localhost:8080/"
        },
        "id": "0Z3ApOUEdRmx",
        "outputId": "027ce57f-c259-41c3-97a8-b307cf055552"
      },
      "execution_count": 9,
      "outputs": [
        {
          "output_type": "stream",
          "name": "stdout",
          "text": [
            "Zero Tensor: tensor([[0., 0., 0.],\n",
            "        [0., 0., 0.]])\n"
          ]
        }
      ]
    },
    {
      "cell_type": "code",
      "source": [
        "ones_tensor = torch.ones(2, 3)\n",
        "print(\"Ones Tensor:\", ones_tensor)"
      ],
      "metadata": {
        "colab": {
          "base_uri": "https://localhost:8080/"
        },
        "id": "PQ9Uc5usdfvH",
        "outputId": "b0173df7-4e55-4785-f773-e0c491f6757f"
      },
      "execution_count": 12,
      "outputs": [
        {
          "output_type": "stream",
          "name": "stdout",
          "text": [
            "Ones Tensor: tensor([[1., 1., 1.],\n",
            "        [1., 1., 1.]])\n"
          ]
        }
      ]
    },
    {
      "cell_type": "code",
      "source": [
        "arange_tensor = torch.arange(0, 10, 1)\n",
        "print(\"Arange Tensor:\", arange_tensor)"
      ],
      "metadata": {
        "colab": {
          "base_uri": "https://localhost:8080/"
        },
        "id": "vyx3Blv4dsYS",
        "outputId": "eaba66f2-2d7a-4e59-8d8d-9d8f6ba9e731"
      },
      "execution_count": 15,
      "outputs": [
        {
          "output_type": "stream",
          "name": "stdout",
          "text": [
            "Arange Tensor: tensor([0, 1, 2, 3, 4, 5, 6, 7, 8, 9])\n"
          ]
        }
      ]
    },
    {
      "cell_type": "code",
      "source": [
        "arange_tensor =torch.arange(start = 0, end = 10, step = 1)\n",
        "print(\"Arange Tensor:\", arange_tensor)"
      ],
      "metadata": {
        "colab": {
          "base_uri": "https://localhost:8080/"
        },
        "id": "NyYBOwY2d7A2",
        "outputId": "334daa70-9e15-4c3f-93d2-4e1cf08d6e64"
      },
      "execution_count": 17,
      "outputs": [
        {
          "output_type": "stream",
          "name": "stdout",
          "text": [
            "Arange Tensor: tensor([0, 1, 2, 3, 4, 5, 6, 7, 8, 9])\n"
          ]
        }
      ]
    },
    {
      "cell_type": "code",
      "source": [
        "random_tensor = torch.randn(3, 3)\n",
        "print(\"Random Tensor:\", random_tensor)"
      ],
      "metadata": {
        "colab": {
          "base_uri": "https://localhost:8080/"
        },
        "id": "3v67H_r4eVVd",
        "outputId": "d82725e4-75be-4af1-af7b-4d4ccbdc1723"
      },
      "execution_count": 18,
      "outputs": [
        {
          "output_type": "stream",
          "name": "stdout",
          "text": [
            "Random Tensor: tensor([[-0.1518,  0.3522, -1.9880],\n",
            "        [ 1.0300,  0.3439,  0.2152],\n",
            "        [ 0.6659, -0.3414, -0.2676]])\n"
          ]
        }
      ]
    },
    {
      "cell_type": "code",
      "source": [
        "random_tensor[0, 0]"
      ],
      "metadata": {
        "colab": {
          "base_uri": "https://localhost:8080/"
        },
        "id": "QWlj6Eqrelwx",
        "outputId": "48fa47fd-83b9-4e1d-e91f-4089cf670066"
      },
      "execution_count": 22,
      "outputs": [
        {
          "output_type": "execute_result",
          "data": {
            "text/plain": [
              "tensor(-0.1518)"
            ]
          },
          "metadata": {},
          "execution_count": 22
        }
      ]
    },
    {
      "cell_type": "code",
      "source": [
        "random_tensor[0, :]"
      ],
      "metadata": {
        "colab": {
          "base_uri": "https://localhost:8080/"
        },
        "id": "mpbVWiImeuMX",
        "outputId": "cc7405a0-3316-493d-caa0-60b29c20aa42"
      },
      "execution_count": 21,
      "outputs": [
        {
          "output_type": "execute_result",
          "data": {
            "text/plain": [
              "tensor([-0.1518,  0.3522, -1.9880])"
            ]
          },
          "metadata": {},
          "execution_count": 21
        }
      ]
    },
    {
      "cell_type": "code",
      "source": [
        "random_tensor[:, 0]"
      ],
      "metadata": {
        "colab": {
          "base_uri": "https://localhost:8080/"
        },
        "id": "hsROgTctexQ4",
        "outputId": "d76114d6-6bfb-4579-954d-ef5ebad109cb"
      },
      "execution_count": 23,
      "outputs": [
        {
          "output_type": "execute_result",
          "data": {
            "text/plain": [
              "tensor([-0.1518,  1.0300,  0.6659])"
            ]
          },
          "metadata": {},
          "execution_count": 23
        }
      ]
    },
    {
      "cell_type": "code",
      "source": [
        "random_tensor[1, 1].item()"
      ],
      "metadata": {
        "colab": {
          "base_uri": "https://localhost:8080/"
        },
        "id": "2oZCe9YgfAEu",
        "outputId": "0bed3233-66e7-4ff8-d47a-ed315a0ec318"
      },
      "execution_count": 24,
      "outputs": [
        {
          "output_type": "execute_result",
          "data": {
            "text/plain": [
              "0.34392282366752625"
            ]
          },
          "metadata": {},
          "execution_count": 24
        }
      ]
    },
    {
      "cell_type": "code",
      "source": [
        "reshaped_tensor = torch.rand(5, 4)\n",
        "print(\"Reshaped Tensor\", reshaped_tensor)"
      ],
      "metadata": {
        "colab": {
          "base_uri": "https://localhost:8080/"
        },
        "id": "olQP_WgTfELk",
        "outputId": "3e445819-49f8-4ac3-a6fe-b59a9e1503af"
      },
      "execution_count": 26,
      "outputs": [
        {
          "output_type": "stream",
          "name": "stdout",
          "text": [
            "Reshaped Tensor tensor([[0.8346, 0.9660, 0.8361, 0.7227],\n",
            "        [0.7480, 0.1472, 0.0390, 0.9677],\n",
            "        [0.6372, 0.5773, 0.6404, 0.8046],\n",
            "        [0.5181, 0.6639, 0.2963, 0.0593],\n",
            "        [0.9073, 0.2331, 0.4745, 0.2583]])\n"
          ]
        }
      ]
    },
    {
      "cell_type": "markdown",
      "source": [
        "**Reshape and view**\n",
        "\n",
        "reshape and view both do same thing"
      ],
      "metadata": {
        "id": "U9r_IPATi9cT"
      }
    },
    {
      "cell_type": "code",
      "source": [
        "new_reshaped_tensor = reshaped_tensor.view(4,5)\n",
        "print(\"New Reshaped Tensor:\", new_reshaped_tensor)"
      ],
      "metadata": {
        "colab": {
          "base_uri": "https://localhost:8080/"
        },
        "id": "coN8mNStfNRO",
        "outputId": "c8bab99e-b7e2-4826-c57c-6382579626b2"
      },
      "execution_count": 28,
      "outputs": [
        {
          "output_type": "stream",
          "name": "stdout",
          "text": [
            "New Reshaped Tensor: tensor([[0.8346, 0.9660, 0.8361, 0.7227, 0.7480],\n",
            "        [0.1472, 0.0390, 0.9677, 0.6372, 0.5773],\n",
            "        [0.6404, 0.8046, 0.5181, 0.6639, 0.2963],\n",
            "        [0.0593, 0.9073, 0.2331, 0.4745, 0.2583]])\n"
          ]
        }
      ]
    },
    {
      "cell_type": "code",
      "source": [
        "new_reshaped_tensor = reshaped_tensor.view(-1, 2)\n",
        "print(\"New Reshaped Tensor:\", new_reshaped_tensor)"
      ],
      "metadata": {
        "colab": {
          "base_uri": "https://localhost:8080/"
        },
        "id": "3I17dhkoffaY",
        "outputId": "08223976-a3d5-48f3-d9b5-2370409e9eae"
      },
      "execution_count": 30,
      "outputs": [
        {
          "output_type": "stream",
          "name": "stdout",
          "text": [
            "New Reshaped Tensor: tensor([[0.8346, 0.9660],\n",
            "        [0.8361, 0.7227],\n",
            "        [0.7480, 0.1472],\n",
            "        [0.0390, 0.9677],\n",
            "        [0.6372, 0.5773],\n",
            "        [0.6404, 0.8046],\n",
            "        [0.5181, 0.6639],\n",
            "        [0.2963, 0.0593],\n",
            "        [0.9073, 0.2331],\n",
            "        [0.4745, 0.2583]])\n"
          ]
        }
      ]
    },
    {
      "cell_type": "code",
      "source": [
        "new_reshaped_tensor = reshaped_tensor.view(5, -1)\n",
        "print(\"New Reshaped Tensor:\", new_reshaped_tensor)"
      ],
      "metadata": {
        "colab": {
          "base_uri": "https://localhost:8080/"
        },
        "id": "LaSGIr0GfsSb",
        "outputId": "f84b19a5-9555-4bf0-bce7-7b78ea45feac"
      },
      "execution_count": 32,
      "outputs": [
        {
          "output_type": "stream",
          "name": "stdout",
          "text": [
            "New Reshaped Tensor: tensor([[0.8346, 0.9660, 0.8361, 0.7227],\n",
            "        [0.7480, 0.1472, 0.0390, 0.9677],\n",
            "        [0.6372, 0.5773, 0.6404, 0.8046],\n",
            "        [0.5181, 0.6639, 0.2963, 0.0593],\n",
            "        [0.9073, 0.2331, 0.4745, 0.2583]])\n"
          ]
        }
      ]
    },
    {
      "cell_type": "code",
      "source": [
        "new_reshaped_tensor = reshaped_tensor.reshape(-1, 2)\n",
        "print(\"New Reshaped Tensor:\", new_reshaped_tensor)"
      ],
      "metadata": {
        "colab": {
          "base_uri": "https://localhost:8080/"
        },
        "id": "UjlQ2mbcjCqd",
        "outputId": "66a0d451-f905-42f8-f493-3b58c925261f"
      },
      "execution_count": 56,
      "outputs": [
        {
          "output_type": "stream",
          "name": "stdout",
          "text": [
            "New Reshaped Tensor: tensor([[0.8346, 0.9660],\n",
            "        [0.8361, 0.7227],\n",
            "        [0.7480, 0.1472],\n",
            "        [0.0390, 0.9677],\n",
            "        [0.6372, 0.5773],\n",
            "        [0.6404, 0.8046],\n",
            "        [0.5181, 0.6639],\n",
            "        [0.2963, 0.0593],\n",
            "        [0.9073, 0.2331],\n",
            "        [0.4745, 0.2583]])\n"
          ]
        }
      ]
    },
    {
      "cell_type": "markdown",
      "source": [
        "**Tensor Operations**"
      ],
      "metadata": {
        "id": "GrVpf1cmi3d_"
      }
    },
    {
      "cell_type": "code",
      "source": [
        "tensor_a = torch.tensor([1, 2, 3])\n",
        "tensor_b = torch.tensor([4, 5, 6])\n",
        "\n",
        "result_add_1 = torch.add(tensor_a, tensor_b)\n",
        "result_add_2 = tensor_a + tensor_b\n",
        "\n",
        "print(\"func :\",result_add_1)\n",
        "print(\"operation :\", result_add_2)"
      ],
      "metadata": {
        "colab": {
          "base_uri": "https://localhost:8080/"
        },
        "id": "rVp4LfxofzKG",
        "outputId": "87817568-4175-49f0-c58f-abca5f2fc293"
      },
      "execution_count": 36,
      "outputs": [
        {
          "output_type": "stream",
          "name": "stdout",
          "text": [
            "func : tensor([5, 7, 9])\n",
            "operation : tensor([5, 7, 9])\n"
          ]
        }
      ]
    },
    {
      "cell_type": "code",
      "source": [
        "print(tensor_a.add(tensor_b)) # But it doesnot effect the value of tensor_a\n",
        "print(tensor_a)"
      ],
      "metadata": {
        "colab": {
          "base_uri": "https://localhost:8080/"
        },
        "id": "M4OVllMDgPbL",
        "outputId": "d8a2dbd0-d2da-4360-ca87-9d86bb236a01"
      },
      "execution_count": 40,
      "outputs": [
        {
          "output_type": "stream",
          "name": "stdout",
          "text": [
            "tensor([5, 7, 9])\n",
            "tensor([1, 2, 3])\n"
          ]
        }
      ]
    },
    {
      "cell_type": "code",
      "source": [
        "print(tensor_a.add_(tensor_b)) # It will effect the value of tensor_a\n",
        "print(tensor_a)"
      ],
      "metadata": {
        "colab": {
          "base_uri": "https://localhost:8080/"
        },
        "id": "4-GjhdcTg5n4",
        "outputId": "481c9e07-4659-40fc-cb86-cc7f3d7b137f"
      },
      "execution_count": 41,
      "outputs": [
        {
          "output_type": "stream",
          "name": "stdout",
          "text": [
            "tensor([5, 7, 9])\n",
            "tensor([5, 7, 9])\n"
          ]
        }
      ]
    },
    {
      "cell_type": "code",
      "source": [
        "tensor_a = torch.tensor([1, 2, 3])\n",
        "tensor_b = torch.tensor([4, 5, 6])\n",
        "\n",
        "result_sub_1 = torch.add(tensor_a, tensor_b)\n",
        "result_sub_2 = tensor_a - tensor_b\n",
        "\n",
        "print(\"func :\",result_sub_1)\n",
        "print(\"operation :\", result_sub_2)\n",
        "\n",
        "print(tensor_a.sub(tensor_b)) # But it doesnot effect the value of tensor_a\n",
        "print(tensor_a)\n",
        "\n",
        "print(tensor_a.sub_(tensor_b)) # It will effect the value of tensor_a\n",
        "print(tensor_a)"
      ],
      "metadata": {
        "colab": {
          "base_uri": "https://localhost:8080/"
        },
        "id": "9Zsh8fWmhTS-",
        "outputId": "71f2e53b-2fbb-4e06-9259-42ed80426899"
      },
      "execution_count": 43,
      "outputs": [
        {
          "output_type": "stream",
          "name": "stdout",
          "text": [
            "func : tensor([5, 7, 9])\n",
            "operation : tensor([-3, -3, -3])\n",
            "tensor([-3, -3, -3])\n",
            "tensor([1, 2, 3])\n",
            "tensor([-3, -3, -3])\n",
            "tensor([-3, -3, -3])\n"
          ]
        }
      ]
    },
    {
      "cell_type": "code",
      "source": [
        "tensor_a = torch.tensor([1, 2, 3])\n",
        "tensor_b = torch.tensor([4, 5, 6])\n",
        "\n",
        "result_mul_1 = torch.add(tensor_a, tensor_b)\n",
        "result_mul_2 = tensor_a * tensor_b\n",
        "\n",
        "print(\"func :\",result_sub_1)\n",
        "print(\"operation :\", result_sub_2)\n",
        "\n",
        "print(tensor_a.mul(tensor_b)) # But it doesnot effect the value of tensor_a\n",
        "print(tensor_a)\n",
        "\n",
        "print(tensor_a.mul_(tensor_b)) # It will effect the value of tensor_a\n",
        "print(tensor_a)"
      ],
      "metadata": {
        "colab": {
          "base_uri": "https://localhost:8080/"
        },
        "id": "eMx9xQRVhmu-",
        "outputId": "d4737eb0-861d-445f-dd58-12bb986f28ae"
      },
      "execution_count": 44,
      "outputs": [
        {
          "output_type": "stream",
          "name": "stdout",
          "text": [
            "func : tensor([5, 7, 9])\n",
            "operation : tensor([-3, -3, -3])\n",
            "tensor([ 4, 10, 18])\n",
            "tensor([1, 2, 3])\n",
            "tensor([ 4, 10, 18])\n",
            "tensor([ 4, 10, 18])\n"
          ]
        }
      ]
    },
    {
      "cell_type": "code",
      "source": [
        "tensor_a = torch.tensor([1, 2, 3])\n",
        "tensor_b = torch.tensor([4, 5, 6])\n",
        "\n",
        "result_div_1 = torch.div(tensor_a, tensor_b)\n",
        "result_div_2 = tensor_a / tensor_b\n",
        "\n",
        "print(\"func :\",result_sub_1)\n",
        "print(\"operation :\", result_sub_2)\n",
        "\n",
        "print(tensor_a.div(tensor_b)) # But it doesnot effect the value of tensor_a\n",
        "print(tensor_a)\n",
        "\n",
        "print(tensor_a.float().div_(tensor_b.float())) # It will effect the value of tensor_a\n",
        "print(tensor_a)"
      ],
      "metadata": {
        "colab": {
          "base_uri": "https://localhost:8080/"
        },
        "id": "aU2wkbl5hw3_",
        "outputId": "17849c55-c2d1-400a-b51d-5bd3b084dd57"
      },
      "execution_count": 52,
      "outputs": [
        {
          "output_type": "stream",
          "name": "stdout",
          "text": [
            "func : tensor([5, 7, 9])\n",
            "operation : tensor([-3, -3, -3])\n",
            "tensor([0.2500, 0.4000, 0.5000])\n",
            "tensor([1, 2, 3])\n",
            "tensor([0.2500, 0.4000, 0.5000])\n",
            "tensor([1, 2, 3])\n"
          ]
        }
      ]
    },
    {
      "cell_type": "code",
      "source": [
        "tensor_a = torch.tensor([1, 2, 3])\n",
        "tensor_b = torch.tensor([4, 5, 6])\n",
        "\n",
        "result_rem_1 = torch.remainder(tensor_a, tensor_b)\n",
        "result_rem_2 = tensor_a % tensor_b\n",
        "\n",
        "print(\"func :\",result_sub_1)\n",
        "print(\"operation :\", result_sub_2)\n",
        "\n",
        "print(tensor_a.remainder(tensor_b)) # But it doesnot effect the value of tensor_a\n",
        "print(tensor_a)\n",
        "\n",
        "print(tensor_a.float().remainder_(tensor_b.float())) # It will effect the value of tensor_a\n",
        "print(tensor_a)"
      ],
      "metadata": {
        "colab": {
          "base_uri": "https://localhost:8080/"
        },
        "id": "jDbwO3C8h2vA",
        "outputId": "da4670e2-376d-48b8-8407-930fd329b6a4"
      },
      "execution_count": 53,
      "outputs": [
        {
          "output_type": "stream",
          "name": "stdout",
          "text": [
            "func : tensor([5, 7, 9])\n",
            "operation : tensor([-3, -3, -3])\n",
            "tensor([1, 2, 3])\n",
            "tensor([1, 2, 3])\n",
            "tensor([1., 2., 3.])\n",
            "tensor([1, 2, 3])\n"
          ]
        }
      ]
    },
    {
      "cell_type": "code",
      "source": [],
      "metadata": {
        "id": "vq88DvrmiycX"
      },
      "execution_count": null,
      "outputs": []
    }
  ]
}