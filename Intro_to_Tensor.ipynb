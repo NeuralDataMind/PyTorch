{
  "nbformat": 4,
  "nbformat_minor": 0,
  "metadata": {
    "colab": {
      "provenance": [],
      "gpuType": "T4",
      "authorship_tag": "ABX9TyMvuMfWQtXrZnxK/24Ojmyw",
      "include_colab_link": true
    },
    "kernelspec": {
      "name": "python3",
      "display_name": "Python 3"
    },
    "language_info": {
      "name": "python"
    },
    "accelerator": "GPU"
  },
  "cells": [
    {
      "cell_type": "markdown",
      "metadata": {
        "id": "view-in-github",
        "colab_type": "text"
      },
      "source": [
        "<a href=\"https://colab.research.google.com/github/NeuralDataMind/PyTorch/blob/main/Intro_to_Tensor.ipynb\" target=\"_parent\"><img src=\"https://colab.research.google.com/assets/colab-badge.svg\" alt=\"Open In Colab\"/></a>"
      ]
    },
    {
      "cell_type": "code",
      "execution_count": 50,
      "metadata": {
        "id": "UkjvJyjlX3AE"
      },
      "outputs": [],
      "source": [
        "import torch\n",
        "import numpy as np"
      ]
    },
    {
      "cell_type": "code",
      "source": [
        "tensor_1 = torch.tensor([1, 2, 3])\n",
        "print(\"Our first PyTorch Tensor:\", tensor_1)"
      ],
      "metadata": {
        "colab": {
          "base_uri": "https://localhost:8080/"
        },
        "id": "ZgjKTFMucfMk",
        "outputId": "f3c9096d-f522-49b9-932b-905c02c869d4"
      },
      "execution_count": 51,
      "outputs": [
        {
          "output_type": "stream",
          "name": "stdout",
          "text": [
            "Our first PyTorch Tensor: tensor([1, 2, 3])\n"
          ]
        }
      ]
    },
    {
      "cell_type": "code",
      "source": [
        "array_1 = np.array([1, 2, 3])"
      ],
      "metadata": {
        "id": "uNzyTTbEYmj5"
      },
      "execution_count": 52,
      "outputs": []
    },
    {
      "cell_type": "code",
      "source": [
        "tensor_from_numpy = torch.tensor(array_1)\n",
        "print(\"PyTorch Twnsor from numpy arraay:\", tensor_from_numpy)"
      ],
      "metadata": {
        "colab": {
          "base_uri": "https://localhost:8080/"
        },
        "id": "eJnRXrm8c-ey",
        "outputId": "89463c25-4219-4c68-83f3-8d3ce2727a2a"
      },
      "execution_count": 53,
      "outputs": [
        {
          "output_type": "stream",
          "name": "stdout",
          "text": [
            "PyTorch Twnsor from numpy arraay: tensor([1, 2, 3])\n"
          ]
        }
      ]
    },
    {
      "cell_type": "code",
      "source": [
        "empty_tensor = torch.empty(3)\n",
        "print(\"Empty Tensor:\", empty_tensor)"
      ],
      "metadata": {
        "colab": {
          "base_uri": "https://localhost:8080/"
        },
        "id": "HlXwWBt2dDyc",
        "outputId": "d18c8f2f-975d-49f1-9eb9-26aafcf45e21"
      },
      "execution_count": 54,
      "outputs": [
        {
          "output_type": "stream",
          "name": "stdout",
          "text": [
            "Empty Tensor: tensor([0.0000e+00, 0.0000e+00, 7.7052e+31])\n"
          ]
        }
      ]
    },
    {
      "cell_type": "code",
      "source": [
        "zero_tensor = torch.zeros(2, 3)\n",
        "print(\"Zero Tensor:\", zero_tensor)"
      ],
      "metadata": {
        "colab": {
          "base_uri": "https://localhost:8080/"
        },
        "id": "0Z3ApOUEdRmx",
        "outputId": "5b4654ed-509e-421e-db73-02978b9e1bf6"
      },
      "execution_count": 55,
      "outputs": [
        {
          "output_type": "stream",
          "name": "stdout",
          "text": [
            "Zero Tensor: tensor([[0., 0., 0.],\n",
            "        [0., 0., 0.]])\n"
          ]
        }
      ]
    },
    {
      "cell_type": "code",
      "source": [
        "ones_tensor = torch.ones(2, 3)\n",
        "print(\"Ones Tensor:\", ones_tensor)"
      ],
      "metadata": {
        "colab": {
          "base_uri": "https://localhost:8080/"
        },
        "id": "PQ9Uc5usdfvH",
        "outputId": "afbee90f-58bc-4285-8b73-ddd10b18c29b"
      },
      "execution_count": 56,
      "outputs": [
        {
          "output_type": "stream",
          "name": "stdout",
          "text": [
            "Ones Tensor: tensor([[1., 1., 1.],\n",
            "        [1., 1., 1.]])\n"
          ]
        }
      ]
    },
    {
      "cell_type": "code",
      "source": [
        "ones_tensor.dtype # default it is float32"
      ],
      "metadata": {
        "colab": {
          "base_uri": "https://localhost:8080/"
        },
        "id": "R-3JogNJpxYd",
        "outputId": "3a99931f-c682-4b21-b353-7c5c16348be4"
      },
      "execution_count": 57,
      "outputs": [
        {
          "output_type": "execute_result",
          "data": {
            "text/plain": [
              "torch.float32"
            ]
          },
          "metadata": {},
          "execution_count": 57
        }
      ]
    },
    {
      "cell_type": "code",
      "source": [
        "arange_tensor =torch.arange(start = 0, end = 10, step = 1)\n",
        "print(\"Arange Tensor:\", arange_tensor)"
      ],
      "metadata": {
        "colab": {
          "base_uri": "https://localhost:8080/"
        },
        "id": "NyYBOwY2d7A2",
        "outputId": "b71839b9-4e37-4d60-90cc-886464f5af82"
      },
      "execution_count": 58,
      "outputs": [
        {
          "output_type": "stream",
          "name": "stdout",
          "text": [
            "Arange Tensor: tensor([0, 1, 2, 3, 4, 5, 6, 7, 8, 9])\n"
          ]
        }
      ]
    },
    {
      "cell_type": "code",
      "source": [
        "random_tensor = torch.randn(3, 3)\n",
        "print(\"Random Tensor:\", random_tensor)"
      ],
      "metadata": {
        "colab": {
          "base_uri": "https://localhost:8080/"
        },
        "id": "3v67H_r4eVVd",
        "outputId": "fe5fd216-d295-4010-fef9-5aa8a921b37b"
      },
      "execution_count": 59,
      "outputs": [
        {
          "output_type": "stream",
          "name": "stdout",
          "text": [
            "Random Tensor: tensor([[-0.1168,  0.3355, -0.5245],\n",
            "        [ 2.4747, -0.1626, -1.0868],\n",
            "        [-1.2025,  0.9806,  0.6411]])\n"
          ]
        }
      ]
    },
    {
      "cell_type": "code",
      "source": [
        "random_tensor[0, 0]"
      ],
      "metadata": {
        "colab": {
          "base_uri": "https://localhost:8080/"
        },
        "id": "QWlj6Eqrelwx",
        "outputId": "068a613e-c140-462d-b24c-7a43e34add02"
      },
      "execution_count": 60,
      "outputs": [
        {
          "output_type": "execute_result",
          "data": {
            "text/plain": [
              "tensor(-0.1168)"
            ]
          },
          "metadata": {},
          "execution_count": 60
        }
      ]
    },
    {
      "cell_type": "code",
      "source": [
        "random_tensor[0, :]"
      ],
      "metadata": {
        "colab": {
          "base_uri": "https://localhost:8080/"
        },
        "id": "mpbVWiImeuMX",
        "outputId": "3755dba6-e75c-40dc-f597-d600ef1e8301"
      },
      "execution_count": 61,
      "outputs": [
        {
          "output_type": "execute_result",
          "data": {
            "text/plain": [
              "tensor([-0.1168,  0.3355, -0.5245])"
            ]
          },
          "metadata": {},
          "execution_count": 61
        }
      ]
    },
    {
      "cell_type": "code",
      "source": [
        "random_tensor[:, 0]"
      ],
      "metadata": {
        "colab": {
          "base_uri": "https://localhost:8080/"
        },
        "id": "hsROgTctexQ4",
        "outputId": "d9fd8686-ff53-4e88-a71d-80d8bc0e3c64"
      },
      "execution_count": 62,
      "outputs": [
        {
          "output_type": "execute_result",
          "data": {
            "text/plain": [
              "tensor([-0.1168,  2.4747, -1.2025])"
            ]
          },
          "metadata": {},
          "execution_count": 62
        }
      ]
    },
    {
      "cell_type": "code",
      "source": [
        "random_tensor[1, 1].item()"
      ],
      "metadata": {
        "colab": {
          "base_uri": "https://localhost:8080/"
        },
        "id": "2oZCe9YgfAEu",
        "outputId": "88d19bf4-f507-4785-9239-fcaeb2dee568"
      },
      "execution_count": 63,
      "outputs": [
        {
          "output_type": "execute_result",
          "data": {
            "text/plain": [
              "-0.16258735954761505"
            ]
          },
          "metadata": {},
          "execution_count": 63
        }
      ]
    },
    {
      "cell_type": "code",
      "source": [
        "reshaped_tensor = torch.rand(5, 4)\n",
        "print(\"Reshaped Tensor\", reshaped_tensor)"
      ],
      "metadata": {
        "colab": {
          "base_uri": "https://localhost:8080/"
        },
        "id": "olQP_WgTfELk",
        "outputId": "7e1454a7-e5f0-4467-ac65-7c0ac0fe55e7"
      },
      "execution_count": 64,
      "outputs": [
        {
          "output_type": "stream",
          "name": "stdout",
          "text": [
            "Reshaped Tensor tensor([[0.5283, 0.3118, 0.6703, 0.7234],\n",
            "        [0.2837, 0.1823, 0.2073, 0.1675],\n",
            "        [0.5706, 0.7241, 0.1816, 0.6787],\n",
            "        [0.1356, 0.4107, 0.4315, 0.7233],\n",
            "        [0.0207, 0.1934, 0.8572, 0.8731]])\n"
          ]
        }
      ]
    },
    {
      "cell_type": "markdown",
      "source": [
        "**Reshape and view**\n",
        "\n",
        "reshape and view both do same thing"
      ],
      "metadata": {
        "id": "U9r_IPATi9cT"
      }
    },
    {
      "cell_type": "code",
      "source": [
        "new_reshaped_tensor = reshaped_tensor.view(4,5)\n",
        "print(\"New Reshaped Tensor:\", new_reshaped_tensor)"
      ],
      "metadata": {
        "colab": {
          "base_uri": "https://localhost:8080/"
        },
        "id": "coN8mNStfNRO",
        "outputId": "6d3303f2-f60b-499f-f181-7180905b7a9c"
      },
      "execution_count": 65,
      "outputs": [
        {
          "output_type": "stream",
          "name": "stdout",
          "text": [
            "New Reshaped Tensor: tensor([[0.5283, 0.3118, 0.6703, 0.7234, 0.2837],\n",
            "        [0.1823, 0.2073, 0.1675, 0.5706, 0.7241],\n",
            "        [0.1816, 0.6787, 0.1356, 0.4107, 0.4315],\n",
            "        [0.7233, 0.0207, 0.1934, 0.8572, 0.8731]])\n"
          ]
        }
      ]
    },
    {
      "cell_type": "code",
      "source": [
        "new_reshaped_tensor = reshaped_tensor.view(-1, 2)\n",
        "print(\"New Reshaped Tensor:\", new_reshaped_tensor)"
      ],
      "metadata": {
        "colab": {
          "base_uri": "https://localhost:8080/"
        },
        "id": "3I17dhkoffaY",
        "outputId": "ea1cae05-e2f7-4f1b-bae4-05be612e8115"
      },
      "execution_count": 66,
      "outputs": [
        {
          "output_type": "stream",
          "name": "stdout",
          "text": [
            "New Reshaped Tensor: tensor([[0.5283, 0.3118],\n",
            "        [0.6703, 0.7234],\n",
            "        [0.2837, 0.1823],\n",
            "        [0.2073, 0.1675],\n",
            "        [0.5706, 0.7241],\n",
            "        [0.1816, 0.6787],\n",
            "        [0.1356, 0.4107],\n",
            "        [0.4315, 0.7233],\n",
            "        [0.0207, 0.1934],\n",
            "        [0.8572, 0.8731]])\n"
          ]
        }
      ]
    },
    {
      "cell_type": "code",
      "source": [
        "new_reshaped_tensor = reshaped_tensor.view(5, -1)\n",
        "print(\"New Reshaped Tensor:\", new_reshaped_tensor)"
      ],
      "metadata": {
        "colab": {
          "base_uri": "https://localhost:8080/"
        },
        "id": "LaSGIr0GfsSb",
        "outputId": "45e1622b-5784-4509-e7d1-763b2a6334a0"
      },
      "execution_count": 67,
      "outputs": [
        {
          "output_type": "stream",
          "name": "stdout",
          "text": [
            "New Reshaped Tensor: tensor([[0.5283, 0.3118, 0.6703, 0.7234],\n",
            "        [0.2837, 0.1823, 0.2073, 0.1675],\n",
            "        [0.5706, 0.7241, 0.1816, 0.6787],\n",
            "        [0.1356, 0.4107, 0.4315, 0.7233],\n",
            "        [0.0207, 0.1934, 0.8572, 0.8731]])\n"
          ]
        }
      ]
    },
    {
      "cell_type": "code",
      "source": [
        "new_reshaped_tensor = reshaped_tensor.reshape(-1, 2)\n",
        "print(\"New Reshaped Tensor:\", new_reshaped_tensor)"
      ],
      "metadata": {
        "colab": {
          "base_uri": "https://localhost:8080/"
        },
        "id": "UjlQ2mbcjCqd",
        "outputId": "7e23b01c-7686-45bd-ddc5-5a625648e3b7"
      },
      "execution_count": 68,
      "outputs": [
        {
          "output_type": "stream",
          "name": "stdout",
          "text": [
            "New Reshaped Tensor: tensor([[0.5283, 0.3118],\n",
            "        [0.6703, 0.7234],\n",
            "        [0.2837, 0.1823],\n",
            "        [0.2073, 0.1675],\n",
            "        [0.5706, 0.7241],\n",
            "        [0.1816, 0.6787],\n",
            "        [0.1356, 0.4107],\n",
            "        [0.4315, 0.7233],\n",
            "        [0.0207, 0.1934],\n",
            "        [0.8572, 0.8731]])\n"
          ]
        }
      ]
    },
    {
      "cell_type": "markdown",
      "source": [
        "**Tensor Operations**"
      ],
      "metadata": {
        "id": "GrVpf1cmi3d_"
      }
    },
    {
      "cell_type": "code",
      "source": [
        "tensor_a = torch.tensor([1, 2, 3])\n",
        "tensor_b = torch.tensor([4, 5, 6])\n",
        "\n",
        "result_add_1 = torch.add(tensor_a, tensor_b)\n",
        "result_add_2 = tensor_a + tensor_b\n",
        "\n",
        "print(\"func :\",result_add_1)\n",
        "print(\"operation :\", result_add_2)"
      ],
      "metadata": {
        "colab": {
          "base_uri": "https://localhost:8080/"
        },
        "id": "rVp4LfxofzKG",
        "outputId": "363f5231-5c1f-4935-f6cb-dd1742577f49"
      },
      "execution_count": 69,
      "outputs": [
        {
          "output_type": "stream",
          "name": "stdout",
          "text": [
            "func : tensor([5, 7, 9])\n",
            "operation : tensor([5, 7, 9])\n"
          ]
        }
      ]
    },
    {
      "cell_type": "code",
      "source": [
        "print(tensor_a.add(tensor_b)) # But it doesnot effect the value of tensor_a\n",
        "print(tensor_a)"
      ],
      "metadata": {
        "colab": {
          "base_uri": "https://localhost:8080/"
        },
        "id": "M4OVllMDgPbL",
        "outputId": "a38fa6db-ad5e-4823-beb8-96c196f7598d"
      },
      "execution_count": 70,
      "outputs": [
        {
          "output_type": "stream",
          "name": "stdout",
          "text": [
            "tensor([5, 7, 9])\n",
            "tensor([1, 2, 3])\n"
          ]
        }
      ]
    },
    {
      "cell_type": "code",
      "source": [
        "print(tensor_a.add_(tensor_b)) # It will effect the value of tensor_a\n",
        "print(tensor_a)"
      ],
      "metadata": {
        "colab": {
          "base_uri": "https://localhost:8080/"
        },
        "id": "4-GjhdcTg5n4",
        "outputId": "f406ecb8-7325-4186-ec35-2d37bf821828"
      },
      "execution_count": 71,
      "outputs": [
        {
          "output_type": "stream",
          "name": "stdout",
          "text": [
            "tensor([5, 7, 9])\n",
            "tensor([5, 7, 9])\n"
          ]
        }
      ]
    },
    {
      "cell_type": "code",
      "source": [
        "tensor_a = torch.tensor([1, 2, 3])\n",
        "tensor_b = torch.tensor([4, 5, 6])\n",
        "\n",
        "result_sub_1 = torch.add(tensor_a, tensor_b)\n",
        "result_sub_2 = tensor_a - tensor_b\n",
        "\n",
        "print(\"func :\",result_sub_1)\n",
        "print(\"operation :\", result_sub_2)\n",
        "\n",
        "print(tensor_a.sub(tensor_b)) # But it doesnot effect the value of tensor_a\n",
        "print(tensor_a)\n",
        "\n",
        "print(tensor_a.sub_(tensor_b)) # It will effect the value of tensor_a\n",
        "print(tensor_a)"
      ],
      "metadata": {
        "colab": {
          "base_uri": "https://localhost:8080/"
        },
        "id": "9Zsh8fWmhTS-",
        "outputId": "a604ddcb-9a38-4918-e200-ea28314f3188"
      },
      "execution_count": 72,
      "outputs": [
        {
          "output_type": "stream",
          "name": "stdout",
          "text": [
            "func : tensor([5, 7, 9])\n",
            "operation : tensor([-3, -3, -3])\n",
            "tensor([-3, -3, -3])\n",
            "tensor([1, 2, 3])\n",
            "tensor([-3, -3, -3])\n",
            "tensor([-3, -3, -3])\n"
          ]
        }
      ]
    },
    {
      "cell_type": "code",
      "source": [
        "tensor_a = torch.tensor([1, 2, 3])\n",
        "tensor_b = torch.tensor([4, 5, 6])\n",
        "\n",
        "result_mul_1 = torch.add(tensor_a, tensor_b)\n",
        "result_mul_2 = tensor_a * tensor_b\n",
        "\n",
        "print(\"func :\",result_sub_1)\n",
        "print(\"operation :\", result_sub_2)\n",
        "\n",
        "print(tensor_a.mul(tensor_b)) # But it doesnot effect the value of tensor_a\n",
        "print(tensor_a)\n",
        "\n",
        "print(tensor_a.mul_(tensor_b)) # It will effect the value of tensor_a\n",
        "print(tensor_a)"
      ],
      "metadata": {
        "colab": {
          "base_uri": "https://localhost:8080/"
        },
        "id": "eMx9xQRVhmu-",
        "outputId": "5cdcf9eb-3436-43de-9ad0-8091271293ca"
      },
      "execution_count": 73,
      "outputs": [
        {
          "output_type": "stream",
          "name": "stdout",
          "text": [
            "func : tensor([5, 7, 9])\n",
            "operation : tensor([-3, -3, -3])\n",
            "tensor([ 4, 10, 18])\n",
            "tensor([1, 2, 3])\n",
            "tensor([ 4, 10, 18])\n",
            "tensor([ 4, 10, 18])\n"
          ]
        }
      ]
    },
    {
      "cell_type": "code",
      "source": [
        "tensor_a = torch.tensor([1, 2, 3])\n",
        "tensor_b = torch.tensor([4, 5, 6])\n",
        "\n",
        "result_div_1 = torch.div(tensor_a, tensor_b)\n",
        "result_div_2 = tensor_a / tensor_b\n",
        "\n",
        "print(\"func :\",result_sub_1)\n",
        "print(\"operation :\", result_sub_2)\n",
        "\n",
        "print(tensor_a.div(tensor_b)) # But it doesnot effect the value of tensor_a\n",
        "print(tensor_a)\n",
        "\n",
        "print(tensor_a.float().div_(tensor_b.float())) # It will effect the value of tensor_a\n",
        "print(tensor_a)"
      ],
      "metadata": {
        "colab": {
          "base_uri": "https://localhost:8080/"
        },
        "id": "aU2wkbl5hw3_",
        "outputId": "80bc4106-ce04-452a-fecf-0ee0ef38a0cc"
      },
      "execution_count": 74,
      "outputs": [
        {
          "output_type": "stream",
          "name": "stdout",
          "text": [
            "func : tensor([5, 7, 9])\n",
            "operation : tensor([-3, -3, -3])\n",
            "tensor([0.2500, 0.4000, 0.5000])\n",
            "tensor([1, 2, 3])\n",
            "tensor([0.2500, 0.4000, 0.5000])\n",
            "tensor([1, 2, 3])\n"
          ]
        }
      ]
    },
    {
      "cell_type": "code",
      "source": [
        "tensor_a = torch.tensor([1, 2, 3])\n",
        "tensor_b = torch.tensor([4, 5, 6])\n",
        "\n",
        "result_rem_1 = torch.remainder(tensor_a, tensor_b)\n",
        "result_rem_2 = tensor_a % tensor_b\n",
        "\n",
        "print(\"func :\",result_sub_1)\n",
        "print(\"operation :\", result_sub_2)\n",
        "\n",
        "print(tensor_a.remainder(tensor_b)) # But it doesnot effect the value of tensor_a\n",
        "print(tensor_a)\n",
        "\n",
        "print(tensor_a.float().remainder_(tensor_b.float())) # It will effect the value of tensor_a\n",
        "print(tensor_a)"
      ],
      "metadata": {
        "colab": {
          "base_uri": "https://localhost:8080/"
        },
        "id": "jDbwO3C8h2vA",
        "outputId": "ef467238-05f0-43ab-ae72-9c53a9d614e7"
      },
      "execution_count": 75,
      "outputs": [
        {
          "output_type": "stream",
          "name": "stdout",
          "text": [
            "func : tensor([5, 7, 9])\n",
            "operation : tensor([-3, -3, -3])\n",
            "tensor([1, 2, 3])\n",
            "tensor([1, 2, 3])\n",
            "tensor([1., 2., 3.])\n",
            "tensor([1, 2, 3])\n"
          ]
        }
      ]
    },
    {
      "cell_type": "code",
      "source": [
        "matrix_a = torch.tensor([[1, 2], [3, 4]])\n",
        "matrix_b = torch.tensor([[2, 1], [4, 3]])"
      ],
      "metadata": {
        "id": "vq88DvrmiycX"
      },
      "execution_count": 76,
      "outputs": []
    },
    {
      "cell_type": "code",
      "source": [
        "print(\"Matrix Add:\\n\", torch.add(matrix_a, matrix_b))\n",
        "print(\"Matrix Sub:\\n\", torch.sub(matrix_a, matrix_b))\n",
        "print(\"Matrix Mul:\\n\", torch.mm(matrix_a, matrix_b))\n",
        "print(\"Matrix Div:\\n\", torch.div(matrix_a, matrix_b))\n",
        "print(\"Matrix Rem:\\n\", torch.remainder(matrix_a, matrix_b))"
      ],
      "metadata": {
        "colab": {
          "base_uri": "https://localhost:8080/"
        },
        "id": "ejCsWGpCo9Zk",
        "outputId": "a154bbcd-b3ba-47a7-cd37-8dcdfb0af851"
      },
      "execution_count": 77,
      "outputs": [
        {
          "output_type": "stream",
          "name": "stdout",
          "text": [
            "Matrix Add:\n",
            " tensor([[3, 3],\n",
            "        [7, 7]])\n",
            "Matrix Sub:\n",
            " tensor([[-1,  1],\n",
            "        [-1,  1]])\n",
            "Matrix Mul:\n",
            " tensor([[10,  7],\n",
            "        [22, 15]])\n",
            "Matrix Div:\n",
            " tensor([[0.5000, 2.0000],\n",
            "        [0.7500, 1.3333]])\n",
            "Matrix Rem:\n",
            " tensor([[1, 0],\n",
            "        [3, 1]])\n"
          ]
        }
      ]
    },
    {
      "cell_type": "markdown",
      "source": [
        "**dtype**"
      ],
      "metadata": {
        "id": "ymtmO4v3sItE"
      }
    },
    {
      "cell_type": "code",
      "source": [
        "matrix_a.dtype"
      ],
      "metadata": {
        "colab": {
          "base_uri": "https://localhost:8080/"
        },
        "id": "jyoHerLmpTIW",
        "outputId": "500ac4f0-da5b-4772-e1f6-03ff7b497fb2"
      },
      "execution_count": 78,
      "outputs": [
        {
          "output_type": "execute_result",
          "data": {
            "text/plain": [
              "torch.int64"
            ]
          },
          "metadata": {},
          "execution_count": 78
        }
      ]
    },
    {
      "cell_type": "code",
      "source": [
        "a_tensor = torch.tensor([1, 2, 3], dtype=torch.float16) # default is float32\n",
        "print(\"A Tensor:\", a_tensor)\n",
        "print(a_tensor.dtype)"
      ],
      "metadata": {
        "colab": {
          "base_uri": "https://localhost:8080/"
        },
        "id": "P54D-swFprjq",
        "outputId": "c7012807-d194-4db7-be7c-56c4ca47d449"
      },
      "execution_count": 79,
      "outputs": [
        {
          "output_type": "stream",
          "name": "stdout",
          "text": [
            "A Tensor: tensor([1., 2., 3.], dtype=torch.float16)\n",
            "torch.float16\n"
          ]
        }
      ]
    },
    {
      "cell_type": "code",
      "source": [
        "tensor_int = torch.tensor([4, 5, 6], dtype=torch.int64)\n",
        "print(\"tensor_int\", tensor_int)\n",
        "print(tensor_int.dtype)"
      ],
      "metadata": {
        "colab": {
          "base_uri": "https://localhost:8080/"
        },
        "id": "z9tUiCN1qVcr",
        "outputId": "788971c0-89de-48af-b902-0d3c5c68fb1f"
      },
      "execution_count": 80,
      "outputs": [
        {
          "output_type": "stream",
          "name": "stdout",
          "text": [
            "tensor_int tensor([4, 5, 6])\n",
            "torch.int64\n"
          ]
        }
      ]
    },
    {
      "cell_type": "code",
      "source": [
        "tensor_float = tensor_int.to(torch.float32)\n",
        "print(tensor_float)\n",
        "print(tensor_float.dtype)"
      ],
      "metadata": {
        "colab": {
          "base_uri": "https://localhost:8080/"
        },
        "id": "ZLXOQLPUquAl",
        "outputId": "6ea0779b-bc97-42f1-984d-690e03b43850"
      },
      "execution_count": 81,
      "outputs": [
        {
          "output_type": "stream",
          "name": "stdout",
          "text": [
            "tensor([4., 5., 6.])\n",
            "torch.float32\n"
          ]
        }
      ]
    },
    {
      "cell_type": "markdown",
      "source": [
        "**Device**"
      ],
      "metadata": {
        "id": "08JQSuxwsDdk"
      }
    },
    {
      "cell_type": "code",
      "source": [
        "tensor_float.device"
      ],
      "metadata": {
        "colab": {
          "base_uri": "https://localhost:8080/"
        },
        "id": "2Xb-tK5ArEU3",
        "outputId": "85ed4b9c-9f2c-4385-f311-40dd9198cccc"
      },
      "execution_count": 82,
      "outputs": [
        {
          "output_type": "execute_result",
          "data": {
            "text/plain": [
              "device(type='cpu')"
            ]
          },
          "metadata": {},
          "execution_count": 82
        }
      ]
    },
    {
      "cell_type": "code",
      "source": [
        "device = torch.device('cuda' if torch.cuda.is_available() else 'cpu')"
      ],
      "metadata": {
        "id": "9zzInt01rN9Y"
      },
      "execution_count": 83,
      "outputs": []
    },
    {
      "cell_type": "code",
      "source": [
        "tensor_float.to(device)"
      ],
      "metadata": {
        "colab": {
          "base_uri": "https://localhost:8080/"
        },
        "id": "-ALfULC8rbic",
        "outputId": "f7fa1877-348e-4e1d-8df8-029651419c19"
      },
      "execution_count": 84,
      "outputs": [
        {
          "output_type": "execute_result",
          "data": {
            "text/plain": [
              "tensor([4., 5., 6.], device='cuda:0')"
            ]
          },
          "metadata": {},
          "execution_count": 84
        }
      ]
    },
    {
      "cell_type": "code",
      "source": [
        "torch.cuda.device_count()"
      ],
      "metadata": {
        "colab": {
          "base_uri": "https://localhost:8080/"
        },
        "id": "OMpePAxFrnK5",
        "outputId": "284d1f6e-d6e6-44c9-e8ab-a605a09234bd"
      },
      "execution_count": 85,
      "outputs": [
        {
          "output_type": "execute_result",
          "data": {
            "text/plain": [
              "1"
            ]
          },
          "metadata": {},
          "execution_count": 85
        }
      ]
    },
    {
      "cell_type": "code",
      "source": [
        "torch.cpu.device_count()"
      ],
      "metadata": {
        "colab": {
          "base_uri": "https://localhost:8080/"
        },
        "id": "ASSy1KDZr3Bu",
        "outputId": "07d1d670-e6ea-4668-eb44-2fbfca2261d6"
      },
      "execution_count": 86,
      "outputs": [
        {
          "output_type": "execute_result",
          "data": {
            "text/plain": [
              "1"
            ]
          },
          "metadata": {},
          "execution_count": 86
        }
      ]
    },
    {
      "cell_type": "code",
      "source": [
        "tensor_new = torch.tensor([51.50, 46.2], dtype=torch.float32, device='cuda')"
      ],
      "metadata": {
        "id": "yBwfx-Opr6ja"
      },
      "execution_count": 88,
      "outputs": []
    },
    {
      "cell_type": "code",
      "source": [
        "tensor_new.shape"
      ],
      "metadata": {
        "colab": {
          "base_uri": "https://localhost:8080/"
        },
        "id": "8Sv4KuKIsYe7",
        "outputId": "2613e083-8c19-438b-b49c-aba19238e904"
      },
      "execution_count": 89,
      "outputs": [
        {
          "output_type": "execute_result",
          "data": {
            "text/plain": [
              "torch.Size([2])"
            ]
          },
          "metadata": {},
          "execution_count": 89
        }
      ]
    }
  ]
}