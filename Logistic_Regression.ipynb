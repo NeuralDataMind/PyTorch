{
  "nbformat": 4,
  "nbformat_minor": 0,
  "metadata": {
    "colab": {
      "provenance": [],
      "authorship_tag": "ABX9TyPxvKqFdduFcbOoWoVq3LkT",
      "include_colab_link": true
    },
    "kernelspec": {
      "name": "python3",
      "display_name": "Python 3"
    },
    "language_info": {
      "name": "python"
    }
  },
  "cells": [
    {
      "cell_type": "markdown",
      "metadata": {
        "id": "view-in-github",
        "colab_type": "text"
      },
      "source": [
        "<a href=\"https://colab.research.google.com/github/NeuralDataMind/PyTorch/blob/main/Logistic_Regression.ipynb\" target=\"_parent\"><img src=\"https://colab.research.google.com/assets/colab-badge.svg\" alt=\"Open In Colab\"/></a>"
      ]
    },
    {
      "cell_type": "code",
      "execution_count": 62,
      "metadata": {
        "id": "hM_OE_62lVlB"
      },
      "outputs": [],
      "source": [
        "import torch\n",
        "import torch.nn as nn\n",
        "\n",
        "import numpy as np\n",
        "\n",
        "from sklearn.preprocessing import StandardScaler\n",
        "from sklearn.model_selection import train_test_split\n",
        "from sklearn.datasets import make_classification"
      ]
    },
    {
      "cell_type": "code",
      "source": [
        "device = torch.device('cuda' if torch.cuda.is_available() else 'cpu')"
      ],
      "metadata": {
        "id": "sNroS9Cul3fu"
      },
      "execution_count": 63,
      "outputs": []
    },
    {
      "cell_type": "code",
      "source": [
        "X, y = make_classification(\n",
        "    n_samples = 1000,\n",
        "    n_features = 17 ,\n",
        "    n_informative = 10,\n",
        "    n_redundant = 7,\n",
        "    n_classes = 2,\n",
        "    random_state = 21\n",
        ")"
      ],
      "metadata": {
        "id": "3EFAIjIbmC3K"
      },
      "execution_count": 64,
      "outputs": []
    },
    {
      "cell_type": "code",
      "source": [
        "X.shape"
      ],
      "metadata": {
        "colab": {
          "base_uri": "https://localhost:8080/"
        },
        "id": "Ah9I36F4miDQ",
        "outputId": "33bbedce-2148-49f9-9055-09dce04179a6"
      },
      "execution_count": 65,
      "outputs": [
        {
          "output_type": "execute_result",
          "data": {
            "text/plain": [
              "(1000, 17)"
            ]
          },
          "metadata": {},
          "execution_count": 65
        }
      ]
    },
    {
      "cell_type": "code",
      "source": [
        "n_samples, n_features = X.shape"
      ],
      "metadata": {
        "id": "AhCNlocSmns5"
      },
      "execution_count": 66,
      "outputs": []
    },
    {
      "cell_type": "code",
      "source": [
        "X_train, X_test, y_train, y_test = train_test_split(X, y, test_size = 0.2, random_state = 18)"
      ],
      "metadata": {
        "id": "kNFcOILhmsrN"
      },
      "execution_count": 67,
      "outputs": []
    },
    {
      "cell_type": "code",
      "source": [
        "sc = StandardScaler()\n",
        "X_train = sc.fit_transform(X_train)\n",
        "X_test = sc.transform(X_test)"
      ],
      "metadata": {
        "id": "UEd9sRdMmuIm"
      },
      "execution_count": 68,
      "outputs": []
    },
    {
      "cell_type": "code",
      "source": [
        "X_train = torch.from_numpy(X_train).type(torch.float32).to(device)\n",
        "X_test = torch.from_numpy(X_test).type(torch.float32).to(device)\n",
        "y_train = torch.from_numpy(y_train).type(torch.float32).view(-1, 1).to(device)\n",
        "y_test = torch.from_numpy(y_test).type(torch.float32).view(-1, 1).to(device)"
      ],
      "metadata": {
        "id": "gXsirwVBmuE_"
      },
      "execution_count": 69,
      "outputs": []
    },
    {
      "cell_type": "code",
      "source": [
        "class LogisticRegression(nn.Module):\n",
        "  def __init__(self, n_input_features):\n",
        "    super(LogisticRegression, self).__init__()\n",
        "    self.linear_1 = nn.Linear(n_input_features, 20)\n",
        "    self.linear_2 = nn.Linear(20, 1)\n",
        "    self.elu = nn.ELU()\n",
        "\n",
        "  def forward(self, x):\n",
        "    x = self.elu(self.linear_1(x))\n",
        "    y_predicted = torch.sigmoid(self.linear_2(x))\n",
        "    return y_predicted"
      ],
      "metadata": {
        "id": "lCnvVWIemuCw"
      },
      "execution_count": 70,
      "outputs": []
    },
    {
      "cell_type": "code",
      "source": [
        "model = LogisticRegression(n_features).to(device)"
      ],
      "metadata": {
        "id": "D4KEbFjyosji"
      },
      "execution_count": 71,
      "outputs": []
    },
    {
      "cell_type": "code",
      "source": [
        "learning_rate = 0.1\n",
        "criterion = nn.BCELoss()\n",
        "optimizer = torch.optim.SGD(model.parameters(), lr = learning_rate)"
      ],
      "metadata": {
        "id": "dt8bT3qppAAy"
      },
      "execution_count": 72,
      "outputs": []
    },
    {
      "cell_type": "code",
      "source": [
        "num_epochs = 6500\n",
        "\n",
        "for epoch in range(num_epochs):\n",
        "  model.train()\n",
        "\n",
        "  y_predicted = model(X_train)\n",
        "  loss = criterion(y_predicted, y_train)\n",
        "\n",
        "  optimizer.zero_grad()\n",
        "  loss.backward()\n",
        "  optimizer.step()\n",
        "\n",
        "  if (epoch + 1) % 500 == 0:\n",
        "    print(f'epoch {epoch + 1}, loss = {loss.item():.2f}')"
      ],
      "metadata": {
        "colab": {
          "base_uri": "https://localhost:8080/"
        },
        "id": "LFR8SeHzpbyF",
        "outputId": "f180a2d8-b779-4fe1-c656-c57b6a118e5e"
      },
      "execution_count": 73,
      "outputs": [
        {
          "output_type": "stream",
          "name": "stdout",
          "text": [
            "epoch 500, loss = 0.31\n",
            "epoch 1000, loss = 0.25\n",
            "epoch 1500, loss = 0.21\n",
            "epoch 2000, loss = 0.18\n",
            "epoch 2500, loss = 0.16\n",
            "epoch 3000, loss = 0.14\n",
            "epoch 3500, loss = 0.13\n",
            "epoch 4000, loss = 0.12\n",
            "epoch 4500, loss = 0.11\n",
            "epoch 5000, loss = 0.11\n",
            "epoch 5500, loss = 0.10\n",
            "epoch 6000, loss = 0.10\n",
            "epoch 6500, loss = 0.09\n"
          ]
        }
      ]
    },
    {
      "cell_type": "code",
      "source": [
        "model.eval()\n",
        "\n",
        "with torch.inference_mode():\n",
        "  y_prediceted = model(X_test)\n",
        "  y_predicted_cls = y_prediceted.round()\n",
        "  acc = y_predicted_cls.eq(y_test).sum() / float(y_test.shape[0])\n",
        "  print(f'accuracy = {acc:.2f}')"
      ],
      "metadata": {
        "colab": {
          "base_uri": "https://localhost:8080/"
        },
        "id": "sWDeHIX3qVHv",
        "outputId": "fddad701-157e-4edd-953f-b23e200bb203"
      },
      "execution_count": 74,
      "outputs": [
        {
          "output_type": "stream",
          "name": "stdout",
          "text": [
            "accuracy = 0.91\n"
          ]
        }
      ]
    }
  ]
}