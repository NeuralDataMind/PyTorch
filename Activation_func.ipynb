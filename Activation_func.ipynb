{
  "nbformat": 4,
  "nbformat_minor": 0,
  "metadata": {
    "colab": {
      "provenance": [],
      "authorship_tag": "ABX9TyO9qHOx+Pprzw3kCzGemW2E",
      "include_colab_link": true
    },
    "kernelspec": {
      "name": "python3",
      "display_name": "Python 3"
    },
    "language_info": {
      "name": "python"
    }
  },
  "cells": [
    {
      "cell_type": "markdown",
      "metadata": {
        "id": "view-in-github",
        "colab_type": "text"
      },
      "source": [
        "<a href=\"https://colab.research.google.com/github/NeuralDataMind/PyTorch/blob/main/Activation_func.ipynb\" target=\"_parent\"><img src=\"https://colab.research.google.com/assets/colab-badge.svg\" alt=\"Open In Colab\"/></a>"
      ]
    },
    {
      "cell_type": "code",
      "execution_count": null,
      "metadata": {
        "id": "_LwnPmosezH6"
      },
      "outputs": [],
      "source": [
        "import torch\n",
        "import torch.nn as nn\n",
        "import torch.optim as optim"
      ]
    },
    {
      "cell_type": "code",
      "source": [
        "# softmax activation\n",
        "\n",
        "logits = torch.tensor([[2.3, 0.4, 1.1], [0.1, 2.2, 0.6], [0.3, 0.3, 3.0]])\n",
        "softmax_prob = torch.softmax(logits, dim = 1)\n",
        "print(softmax_prob)"
      ],
      "metadata": {
        "colab": {
          "base_uri": "https://localhost:8080/"
        },
        "id": "dV4fk8_TfE_s",
        "outputId": "13506e91-e8bf-45d0-a3f3-d141b775a67d"
      },
      "execution_count": null,
      "outputs": [
        {
          "output_type": "stream",
          "name": "stdout",
          "text": [
            "tensor([[0.6893, 0.1031, 0.2076],\n",
            "        [0.0925, 0.7551, 0.1524],\n",
            "        [0.0592, 0.0592, 0.8815]])\n"
          ]
        }
      ]
    },
    {
      "cell_type": "code",
      "source": [
        "# LeakyReLU\n",
        "\n",
        "class SimpleNN(nn.Module):\n",
        "  def __init__(self, input_size, hidden_size, output_size):\n",
        "    super().__init__()\n",
        "    self.layer_1 = nn.Linear(input_size, hidden_size)\n",
        "    self.LeakyReLU = nn.LeakyReLU(negative_slope = 0.01)\n",
        "    self.layer_2 = nn.Linear(hidden_size, output_size)\n",
        "\n",
        "  def forward(self, x):\n",
        "    x = self.layer_1(x)\n",
        "    x = self.LeakyReLU(x)\n",
        "    x = self.layer_2(x)\n",
        "    return x\n",
        "\n",
        "input_size = 10\n",
        "hidden_size = 20\n",
        "output_size = 1\n",
        "\n",
        "model = SimpleNN(input_size, hidden_size, output_size)\n",
        "\n",
        "input_data = torch.randn(5, input_size)\n",
        "\n",
        "output_data = model(input_data)\n",
        "\n",
        "print(input_data)\n",
        "print(output_data)"
      ],
      "metadata": {
        "colab": {
          "base_uri": "https://localhost:8080/"
        },
        "id": "kQP5IyYXfm6v",
        "outputId": "8c2cf78d-739c-4a3f-d073-90a831237a70"
      },
      "execution_count": null,
      "outputs": [
        {
          "output_type": "stream",
          "name": "stdout",
          "text": [
            "tensor([[ 0.1328,  2.4767, -0.0203, -0.9344, -0.9423, -0.1368,  0.0297,  0.5052,\n",
            "          0.6273,  0.1548],\n",
            "        [ 1.3067, -1.9355,  0.2729,  1.5221, -0.2315, -1.6914,  2.0548, -0.9555,\n",
            "          0.4264,  1.9079],\n",
            "        [-0.8618, -0.6846,  1.2754, -0.3855, -0.5225, -0.6706, -0.0491, -0.7587,\n",
            "         -1.5609, -0.9203],\n",
            "        [-0.2261, -1.1226, -1.2866, -0.0738,  1.1924,  1.4644,  0.4218, -0.7246,\n",
            "          0.5024,  0.4242],\n",
            "        [-0.1889, -0.1370, -0.2232, -0.6944, -1.8551, -0.0832, -1.7238,  0.3013,\n",
            "          0.7268, -0.1147]])\n",
            "tensor([[-0.2414],\n",
            "        [-1.0141],\n",
            "        [-0.0261],\n",
            "        [-0.3105],\n",
            "        [-0.2032]], grad_fn=<AddmmBackward0>)\n"
          ]
        }
      ]
    },
    {
      "cell_type": "code",
      "source": [
        "# relu and selu\n",
        "\n",
        "class SimpleNN(nn.Module):\n",
        "  def __init__(self, input_size, hidden_size, output_size):\n",
        "    super().__init__()\n",
        "    self.layer_1 = nn.Linear(input_size, hidden_size)\n",
        "    self.layer_2 = nn.Linear(hidden_size, output_size)\n",
        "\n",
        "  def forward(self, x):\n",
        "    x_relu = torch.relu(self.layer_1(x))\n",
        "    x_selu = torch.selu(self.layer_2(x_relu))\n",
        "    return x_relu, x_selu\n",
        "\n",
        "input_size = 10\n",
        "hidden_size = 20\n",
        "output_size = 1\n",
        "\n",
        "model = SimpleNN(input_size, hidden_size, output_size)\n",
        "\n",
        "input_data = torch.randn(5, input_size)\n",
        "\n",
        "output_relu, output_selu = model(input_data)\n",
        "print(input_data)\n",
        "print(output_relu)\n",
        "print(output_selu)"
      ],
      "metadata": {
        "colab": {
          "base_uri": "https://localhost:8080/"
        },
        "id": "4l3aVHNYiH-C",
        "outputId": "d8736c27-a69d-47e3-9857-2223c21fadbc"
      },
      "execution_count": null,
      "outputs": [
        {
          "output_type": "stream",
          "name": "stdout",
          "text": [
            "tensor([[-0.6512, -0.4503,  0.6739,  0.1371, -0.3391, -2.0289, -1.1695,  0.9588,\n",
            "          1.4451, -0.5292],\n",
            "        [ 0.4020, -0.8137, -0.5520, -0.1770, -1.0305, -0.6769, -0.2165, -0.2667,\n",
            "          1.1718, -0.9392],\n",
            "        [ 1.1278, -0.4512, -2.7633,  1.3437,  0.3032,  1.8937, -0.3153,  0.5849,\n",
            "          1.6746, -1.0394],\n",
            "        [-0.1975,  0.0861, -1.0061,  1.6371, -1.0192,  0.0952, -2.1519, -0.8760,\n",
            "          0.1510,  0.1212],\n",
            "        [ 0.9590, -0.6507, -0.1842,  0.1240,  1.4292,  0.3306, -0.9146, -0.2832,\n",
            "          1.7315, -0.5001]])\n",
            "tensor([[0.0000, 0.0000, 0.0000, 0.7429, 0.0000, 0.4975, 0.0000, 0.2031, 0.7939,\n",
            "         0.1883, 0.0000, 0.5556, 0.0729, 0.0920, 0.0512, 0.0000, 0.4023, 0.2363,\n",
            "         0.0185, 0.1032],\n",
            "        [0.0000, 0.3773, 0.0000, 0.0000, 0.0000, 0.7052, 0.0000, 0.0000, 0.4979,\n",
            "         0.5234, 0.0000, 0.2483, 0.2589, 0.0000, 0.3912, 0.0000, 0.4578, 0.6694,\n",
            "         0.0000, 0.0000],\n",
            "        [0.0000, 1.1216, 0.0000, 0.0617, 0.0000, 1.5710, 0.0000, 0.0000, 0.1618,\n",
            "         0.6340, 0.4916, 0.0000, 0.6113, 0.0000, 0.2679, 0.0000, 0.0000, 0.0479,\n",
            "         0.0000, 0.0000],\n",
            "        [0.0000, 0.5053, 0.0000, 0.9433, 0.0000, 0.6483, 0.0000, 0.0000, 0.6931,\n",
            "         0.0000, 0.0000, 0.0000, 1.0362, 0.1852, 0.4095, 0.0000, 0.0000, 0.3284,\n",
            "         0.0000, 0.0000],\n",
            "        [0.0000, 0.3005, 0.1246, 0.0000, 0.0000, 0.2447, 0.0000, 0.0000, 0.0000,\n",
            "         0.2859, 0.0000, 0.0000, 0.2038, 0.0000, 0.0000, 0.0000, 0.0000, 0.0000,\n",
            "         0.0000, 0.0000]], grad_fn=<ReluBackward0>)\n",
            "tensor([[ 0.0021],\n",
            "        [ 0.0114],\n",
            "        [ 0.0940],\n",
            "        [ 0.0007],\n",
            "        [-0.1229]], grad_fn=<EluBackward0>)\n"
          ]
        }
      ]
    },
    {
      "cell_type": "code",
      "source": [],
      "metadata": {
        "id": "mVQ6Uz7gjRrx"
      },
      "execution_count": null,
      "outputs": []
    }
  ]
}