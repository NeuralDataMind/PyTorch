{
  "nbformat": 4,
  "nbformat_minor": 0,
  "metadata": {
    "colab": {
      "provenance": [],
      "gpuType": "T4",
      "authorship_tag": "ABX9TyPTqU7V7oX+1XJ58I/nemAP",
      "include_colab_link": true
    },
    "kernelspec": {
      "name": "python3",
      "display_name": "Python 3"
    },
    "language_info": {
      "name": "python"
    },
    "accelerator": "GPU"
  },
  "cells": [
    {
      "cell_type": "markdown",
      "metadata": {
        "id": "view-in-github",
        "colab_type": "text"
      },
      "source": [
        "<a href=\"https://colab.research.google.com/github/NeuralDataMind/PyTorch/blob/main/softmax_and_CrossEntropy.ipynb\" target=\"_parent\"><img src=\"https://colab.research.google.com/assets/colab-badge.svg\" alt=\"Open In Colab\"/></a>"
      ]
    },
    {
      "cell_type": "markdown",
      "source": [
        "**Mannual Way**"
      ],
      "metadata": {
        "id": "DJ4NE9FbV_Rs"
      }
    },
    {
      "cell_type": "code",
      "execution_count": 1,
      "metadata": {
        "id": "6wd1kn_eRt17"
      },
      "outputs": [],
      "source": [
        "import torch\n",
        "import torch.nn as nn"
      ]
    },
    {
      "cell_type": "code",
      "source": [
        "logits = torch.tensor([[2.5, 0.2, 0.6], [0.3, 2.7, 0.3], [0.1, 0.2, 1.6]])\n",
        "target = torch.tensor([0, 1, 2])"
      ],
      "metadata": {
        "id": "CGf6XK9NTn5Q"
      },
      "execution_count": 2,
      "outputs": []
    },
    {
      "cell_type": "code",
      "source": [
        "softmax_prob = torch.softmax(logits, dim = 1)"
      ],
      "metadata": {
        "id": "Xd1f6AkRULmN"
      },
      "execution_count": 3,
      "outputs": []
    },
    {
      "cell_type": "code",
      "source": [
        "print(softmax_prob)"
      ],
      "metadata": {
        "colab": {
          "base_uri": "https://localhost:8080/"
        },
        "id": "kebe4AeAURiV",
        "outputId": "e8eec25d-7afb-4e14-8f81-e62ebb114cfd"
      },
      "execution_count": 4,
      "outputs": [
        {
          "output_type": "stream",
          "name": "stdout",
          "text": [
            "tensor([[0.8001, 0.0802, 0.1197],\n",
            "        [0.0768, 0.8464, 0.0768],\n",
            "        [0.1518, 0.1678, 0.6804]])\n"
          ]
        }
      ]
    },
    {
      "cell_type": "code",
      "source": [
        "mannual_loss = torch.mean(-torch.log(softmax_prob.gather(1, target.view(-1, 1))))\n",
        "print(mannual_loss.item())"
      ],
      "metadata": {
        "colab": {
          "base_uri": "https://localhost:8080/"
        },
        "id": "TelFADE0U1uJ",
        "outputId": "d1d0b7b4-06ab-471b-82e8-3ea573699662"
      },
      "execution_count": 6,
      "outputs": [
        {
          "output_type": "stream",
          "name": "stdout",
          "text": [
            "0.25827091932296753\n"
          ]
        }
      ]
    },
    {
      "cell_type": "markdown",
      "source": [
        "**Easy Way**"
      ],
      "metadata": {
        "id": "zT58ELqlV5fe"
      }
    },
    {
      "cell_type": "code",
      "source": [
        "criterion = nn.CrossEntropyLoss()"
      ],
      "metadata": {
        "id": "NxR6WNX4VPp2"
      },
      "execution_count": 7,
      "outputs": []
    },
    {
      "cell_type": "code",
      "source": [
        "loss = criterion(logits, target)\n",
        "print(loss.item())"
      ],
      "metadata": {
        "colab": {
          "base_uri": "https://localhost:8080/"
        },
        "id": "Tmdh5jzTVhpK",
        "outputId": "d7562eaa-518d-4c9f-dc61-b5bcbdde1912"
      },
      "execution_count": 9,
      "outputs": [
        {
          "output_type": "stream",
          "name": "stdout",
          "text": [
            "0.25827088952064514\n"
          ]
        }
      ]
    },
    {
      "cell_type": "markdown",
      "source": [
        "*Example 2*"
      ],
      "metadata": {
        "id": "KW3tCPi7WFNy"
      }
    },
    {
      "cell_type": "code",
      "source": [
        "logits2 = torch.randn(5, 10)\n",
        "target2 = torch.LongTensor([1, 7, 2, 4, 3])"
      ],
      "metadata": {
        "id": "vJPx8YtoVknt"
      },
      "execution_count": 10,
      "outputs": []
    },
    {
      "cell_type": "code",
      "source": [
        "logits2"
      ],
      "metadata": {
        "colab": {
          "base_uri": "https://localhost:8080/"
        },
        "id": "-73GHnj1WaGd",
        "outputId": "03b9f1b0-56e7-4635-d5ca-246d242dbb73"
      },
      "execution_count": 11,
      "outputs": [
        {
          "output_type": "execute_result",
          "data": {
            "text/plain": [
              "tensor([[-0.7150, -0.1998,  0.3618,  0.3063,  1.0234, -1.6637,  0.5227, -0.1150,\n",
              "          0.3419,  0.0110],\n",
              "        [-1.4972, -1.3784, -0.0763, -0.7753,  0.4330,  2.5212,  0.9603,  1.4725,\n",
              "         -0.2770,  2.1748],\n",
              "        [ 0.0053, -1.2020,  0.7819, -1.9125,  0.6910, -0.6415, -0.0902, -0.6226,\n",
              "          0.9771, -1.2169],\n",
              "        [ 1.5422,  0.8596, -0.2087,  0.9632, -0.0258, -0.2422,  0.2794, -0.6693,\n",
              "          0.2538, -0.6246],\n",
              "        [ 0.8400,  1.2281,  0.2789,  0.2612,  0.4841, -0.7152,  0.9997,  0.1520,\n",
              "         -1.3046, -0.1845]])"
            ]
          },
          "metadata": {},
          "execution_count": 11
        }
      ]
    },
    {
      "cell_type": "code",
      "source": [
        "target2"
      ],
      "metadata": {
        "colab": {
          "base_uri": "https://localhost:8080/"
        },
        "id": "_0BuYFDxWjOo",
        "outputId": "e37cbef2-6d4c-43a8-a12f-cddf601bf97b"
      },
      "execution_count": 12,
      "outputs": [
        {
          "output_type": "execute_result",
          "data": {
            "text/plain": [
              "tensor([1, 7, 2, 4, 3])"
            ]
          },
          "metadata": {},
          "execution_count": 12
        }
      ]
    },
    {
      "cell_type": "code",
      "source": [
        "loss2 = criterion(logits2, target2)\n",
        "print(loss2.item())"
      ],
      "metadata": {
        "colab": {
          "base_uri": "https://localhost:8080/"
        },
        "id": "LK-kgvpBWk0j",
        "outputId": "781fc2bf-7bb2-4d99-b2ad-05c895299b03"
      },
      "execution_count": 13,
      "outputs": [
        {
          "output_type": "stream",
          "name": "stdout",
          "text": [
            "2.307736873626709\n"
          ]
        }
      ]
    }
  ]
}